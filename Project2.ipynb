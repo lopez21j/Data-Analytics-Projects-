{
  "nbformat": 4,
  "nbformat_minor": 0,
  "metadata": {
    "colab": {
      "provenance": [],
      "authorship_tag": "ABX9TyNGqZb5SVGHYACKk3rSljYV",
      "include_colab_link": true
    },
    "kernelspec": {
      "name": "python3",
      "display_name": "Python 3"
    },
    "language_info": {
      "name": "python"
    }
  },
  "cells": [
    {
      "cell_type": "markdown",
      "metadata": {
        "id": "view-in-github",
        "colab_type": "text"
      },
      "source": [
        "<a href=\"https://colab.research.google.com/github/lopez21j/Data-Analytics-Projects-/blob/main/Project2.ipynb\" target=\"_parent\"><img src=\"https://colab.research.google.com/assets/colab-badge.svg\" alt=\"Open In Colab\"/></a>"
      ]
    },
    {
      "cell_type": "markdown",
      "source": [
        "NYPD Arrest Data 2022\n",
        "\n",
        "## This is a breakdown of every arrest effected in NYC by the NYPD between the months of January-September 2022.\n",
        "## In my analysis I am going to compare the Bronx to the rest of the city in arrests and severity of the crimes.\n"
      ],
      "metadata": {
        "id": "uR9SSsTUqCwV"
      }
    },
    {
      "cell_type": "code",
      "execution_count": 15,
      "metadata": {
        "id": "AxNNl01Eoo8T"
      },
      "outputs": [],
      "source": [
        "import pandas as pd"
      ]
    },
    {
      "cell_type": "code",
      "source": [
        "import numpy as np"
      ],
      "metadata": {
        "id": "O9x37gEXqWt3"
      },
      "execution_count": 16,
      "outputs": []
    },
    {
      "cell_type": "code",
      "source": [
        "import seaborn as sns"
      ],
      "metadata": {
        "id": "w9e4UgQ3qZZ4"
      },
      "execution_count": 17,
      "outputs": []
    },
    {
      "cell_type": "code",
      "source": [
        "import matplotlib.pyplot as plt"
      ],
      "metadata": {
        "id": "qBfM1usPqb7E"
      },
      "execution_count": 18,
      "outputs": []
    },
    {
      "cell_type": "code",
      "source": [
        "import statistics"
      ],
      "metadata": {
        "id": "AGMLdUV9vOUZ"
      },
      "execution_count": 19,
      "outputs": []
    },
    {
      "cell_type": "code",
      "source": [
        "import datetime"
      ],
      "metadata": {
        "id": "_XsKoUjJ-aiu"
      },
      "execution_count": 20,
      "outputs": []
    },
    {
      "cell_type": "code",
      "source": [
        "import calendar"
      ],
      "metadata": {
        "id": "6Q9aynFX4-KU"
      },
      "execution_count": 21,
      "outputs": []
    },
    {
      "cell_type": "code",
      "source": [
        "missing_values =(\"n/a\", \"null\")"
      ],
      "metadata": {
        "id": "rpK99pdBi8L_"
      },
      "execution_count": 22,
      "outputs": []
    },
    {
      "cell_type": "code",
      "source": [
        "data = pd.read_csv(\"/content/NYPD_Arrest_Data__Year_to_Date_-2.csv\",na_values=missing_values)"
      ],
      "metadata": {
        "id": "5L0NQQ4Vqglc"
      },
      "execution_count": 23,
      "outputs": []
    },
    {
      "cell_type": "code",
      "source": [
        "data.info() ##checking the data \n"
      ],
      "metadata": {
        "id": "vnrBH4-WsvVs",
        "colab": {
          "base_uri": "https://localhost:8080/"
        },
        "outputId": "8ccc23ac-d8e4-4fc2-ad97-9a8a8805199f"
      },
      "execution_count": 24,
      "outputs": [
        {
          "output_type": "stream",
          "name": "stdout",
          "text": [
            "<class 'pandas.core.frame.DataFrame'>\n",
            "RangeIndex: 140564 entries, 0 to 140563\n",
            "Data columns (total 19 columns):\n",
            " #   Column                    Non-Null Count   Dtype  \n",
            "---  ------                    --------------   -----  \n",
            " 0   ARREST_KEY                140564 non-null  int64  \n",
            " 1   ARREST_DATE               140564 non-null  object \n",
            " 2   PD_CD                     140188 non-null  float64\n",
            " 3   PD_DESC                   140564 non-null  object \n",
            " 4   KY_CD                     140185 non-null  float64\n",
            " 5   OFNS_DESC                 140564 non-null  object \n",
            " 6   LAW_CODE                  140564 non-null  object \n",
            " 7   LAW_CAT_CD                139202 non-null  object \n",
            " 8   ARREST_BORO               140564 non-null  object \n",
            " 9   ARREST_PRECINCT           140564 non-null  int64  \n",
            " 10  JURISDICTION_CODE         140564 non-null  int64  \n",
            " 11  AGE_GROUP                 140564 non-null  object \n",
            " 12  PERP_SEX                  140564 non-null  object \n",
            " 13  PERP_RACE                 140564 non-null  object \n",
            " 14  X_COORD_CD                140564 non-null  int64  \n",
            " 15  Y_COORD_CD                140564 non-null  int64  \n",
            " 16  Latitude                  140564 non-null  float64\n",
            " 17  Longitude                 140564 non-null  float64\n",
            " 18  New Georeferenced Column  140564 non-null  object \n",
            "dtypes: float64(4), int64(5), object(10)\n",
            "memory usage: 20.4+ MB\n"
          ]
        }
      ]
    },
    {
      "cell_type": "markdown",
      "source": [
        "##Cleaning the Data"
      ],
      "metadata": {
        "id": "qwoXCbxflThC"
      }
    },
    {
      "cell_type": "code",
      "source": [
        "data.columns"
      ],
      "metadata": {
        "id": "OzKhS3Z1tjZA",
        "colab": {
          "base_uri": "https://localhost:8080/"
        },
        "outputId": "5b68219f-85d5-4273-91eb-15b2f8376be8"
      },
      "execution_count": 27,
      "outputs": [
        {
          "output_type": "execute_result",
          "data": {
            "text/plain": [
              "Index(['ARREST_KEY', 'ARREST_DATE', 'PD_CD', 'PD_DESC', 'KY_CD', 'OFNS_DESC',\n",
              "       'LAW_CODE', 'LAW_CAT_CD', 'ARREST_BORO', 'ARREST_PRECINCT',\n",
              "       'JURISDICTION_CODE', 'AGE_GROUP', 'PERP_SEX', 'PERP_RACE', 'X_COORD_CD',\n",
              "       'Y_COORD_CD', 'Latitude', 'Longitude', 'New Georeferenced Column'],\n",
              "      dtype='object')"
            ]
          },
          "metadata": {},
          "execution_count": 27
        }
      ]
    },
    {
      "cell_type": "code",
      "source": [
        "data['ARREST_KEY'].is_unique"
      ],
      "metadata": {
        "id": "B1rNmWWjuxDU",
        "colab": {
          "base_uri": "https://localhost:8080/"
        },
        "outputId": "db3b9a74-a569-4345-e502-a9f7db9f0a50"
      },
      "execution_count": 28,
      "outputs": [
        {
          "output_type": "execute_result",
          "data": {
            "text/plain": [
              "True"
            ]
          },
          "metadata": {},
          "execution_count": 28
        }
      ]
    },
    {
      "cell_type": "code",
      "source": [
        "data.isnull().sum() #checking for missing data "
      ],
      "metadata": {
        "id": "I4vTx_0XhTUj",
        "colab": {
          "base_uri": "https://localhost:8080/"
        },
        "outputId": "ed2e5805-3b09-4167-d829-33d14cc20979"
      },
      "execution_count": 29,
      "outputs": [
        {
          "output_type": "execute_result",
          "data": {
            "text/plain": [
              "ARREST_KEY                     0\n",
              "ARREST_DATE                    0\n",
              "PD_CD                        376\n",
              "PD_DESC                        0\n",
              "KY_CD                        379\n",
              "OFNS_DESC                      0\n",
              "LAW_CODE                       0\n",
              "LAW_CAT_CD                  1362\n",
              "ARREST_BORO                    0\n",
              "ARREST_PRECINCT                0\n",
              "JURISDICTION_CODE              0\n",
              "AGE_GROUP                      0\n",
              "PERP_SEX                       0\n",
              "PERP_RACE                      0\n",
              "X_COORD_CD                     0\n",
              "Y_COORD_CD                     0\n",
              "Latitude                       0\n",
              "Longitude                      0\n",
              "New Georeferenced Column       0\n",
              "dtype: int64"
            ]
          },
          "metadata": {},
          "execution_count": 29
        }
      ]
    },
    {
      "cell_type": "code",
      "source": [
        "data.head(15)"
      ],
      "metadata": {
        "id": "tpQ770bUtv8x"
      },
      "execution_count": null,
      "outputs": []
    },
    {
      "cell_type": "code",
      "source": [
        "clean_data=data.drop(['PD_CD', 'KY_CD','LAW_CODE','X_COORD_CD','Y_COORD_CD','Latitude','Longitude','New Georeferenced Column'], axis=1) \n",
        "##dropped the columns that I did not intend to use "
      ],
      "metadata": {
        "id": "alwHJ8bNg7qp"
      },
      "execution_count": 31,
      "outputs": []
    },
    {
      "cell_type": "code",
      "source": [
        "clean_data.columns ##checking the columns in the new data frame"
      ],
      "metadata": {
        "id": "9zVRrt0-mH-o",
        "colab": {
          "base_uri": "https://localhost:8080/"
        },
        "outputId": "36301a3e-6f38-4b42-c9ac-70a26b9e84c7"
      },
      "execution_count": 32,
      "outputs": [
        {
          "output_type": "execute_result",
          "data": {
            "text/plain": [
              "Index(['ARREST_KEY', 'ARREST_DATE', 'PD_DESC', 'OFNS_DESC', 'LAW_CAT_CD',\n",
              "       'ARREST_BORO', 'ARREST_PRECINCT', 'JURISDICTION_CODE', 'AGE_GROUP',\n",
              "       'PERP_SEX', 'PERP_RACE'],\n",
              "      dtype='object')"
            ]
          },
          "metadata": {},
          "execution_count": 32
        }
      ]
    },
    {
      "cell_type": "code",
      "source": [
        "clean_data2 = clean_data.rename({'OFNS_DESC': 'TYPE_OF_OFFENSE', 'LAW_CAT_CD': 'LEVEL_OF_OFFENSE','PD_DESC': 'DETAIL_OFFENSE DESC'}, axis=1)\n",
        "## rename some of the columns to make them easier to understand "
      ],
      "metadata": {
        "id": "xlDWT5Onm5Q8"
      },
      "execution_count": 33,
      "outputs": []
    },
    {
      "cell_type": "code",
      "source": [
        " clean_data2.tail(15)"
      ],
      "metadata": {
        "id": "2uG2HGhBmfGQ",
        "colab": {
          "base_uri": "https://localhost:8080/",
          "height": 952
        },
        "outputId": "bfc4fd39-52d7-4112-9516-19d9bfdbd424"
      },
      "execution_count": 104,
      "outputs": [
        {
          "output_type": "execute_result",
          "data": {
            "text/plain": [
              "        ARREST_KEY ARREST_DATE                        DETAIL_OFFENSE DESC  \\\n",
              "140549   248783361  07/30/2022             LARCENY,PETIT FROM OPEN AREAS,   \n",
              "140550   251645542  09/27/2022                                  ASSAULT 3   \n",
              "140551   250986872  09/13/2022  LARCENY,GRAND FROM OPEN AREAS, UNATTENDED   \n",
              "140552   250475660  09/01/2022             CONTROLLED SUBSTANCE, POSSESSI   \n",
              "140553   250744929  09/07/2022                INTOXICATED DRIVING,ALCOHOL   \n",
              "140554   247306163  06/29/2022             LARCENY,PETIT FROM OPEN AREAS,   \n",
              "140555   250576362  09/04/2022             CONTROLLED SUBSTANCE,INTENT TO   \n",
              "140556   250870373  09/10/2022                      MENACING,UNCLASSIFIED   \n",
              "140557   251181507  09/16/2022             THEFT OF SERVICES, UNCLASSIFIE   \n",
              "140558   248182214  07/18/2022                BURGLARS TOOLS,UNCLASSIFIED   \n",
              "140559   251412120  09/21/2022                        OBSTR BREATH/CIRCUL   \n",
              "140560   249578318  08/15/2022                          STRANGULATION 1ST   \n",
              "140561   247641284  07/06/2022             LARCENY,PETIT FROM OPEN AREAS,   \n",
              "140562   251006627  09/13/2022             DRUG PARAPHERNALIA,   POSSESSE   \n",
              "140563   248124580  07/16/2022             NY STATE LAWS,UNCLASSIFIED FEL   \n",
              "\n",
              "                       TYPE_OF_OFFENSE LEVEL_OF_OFFENSE ARREST_BORO  \\\n",
              "140549                   PETIT LARCENY                M           Q   \n",
              "140550    ASSAULT 3 & RELATED OFFENSES                M           K   \n",
              "140551                   GRAND LARCENY                F           K   \n",
              "140552                 DANGEROUS DRUGS                M           Q   \n",
              "140553  INTOXICATED & IMPAIRED DRIVING                M           Q   \n",
              "140554                   PETIT LARCENY                M           S   \n",
              "140555                 DANGEROUS DRUGS                F           K   \n",
              "140556    ASSAULT 3 & RELATED OFFENSES                M           Q   \n",
              "140557  OTHER OFFENSES RELATED TO THEF                M           B   \n",
              "140558                 BURGLAR'S TOOLS                M           M   \n",
              "140559    ASSAULT 3 & RELATED OFFENSES                M           B   \n",
              "140560                  FELONY ASSAULT                F           K   \n",
              "140561                   PETIT LARCENY                M           K   \n",
              "140562                 DANGEROUS DRUGS                M           B   \n",
              "140563    NYS LAWS-UNCLASSIFIED FELONY                F           M   \n",
              "\n",
              "        ARREST_PRECINCT  JURISDICTION_CODE AGE_GROUP PERP_SEX  \\\n",
              "140549              103                  0     25-44        M   \n",
              "140550               90                  0     25-44        M   \n",
              "140551               72                  0     18-24        M   \n",
              "140552              103                  0     25-44        M   \n",
              "140553              105                  0     18-24        M   \n",
              "140554              120                  0     25-44        M   \n",
              "140555               70                  0     25-44        M   \n",
              "140556              106                  0       65+        F   \n",
              "140557               46                  1     45-64        M   \n",
              "140558               14                  0     25-44        M   \n",
              "140559               41                  0     25-44        M   \n",
              "140560               70                  0     25-44        M   \n",
              "140561               78                  0     45-64        M   \n",
              "140562               43                  0     25-44        F   \n",
              "140563               32                  0     45-64        M   \n",
              "\n",
              "                       PERP_RACE  MONTH  \n",
              "140549                     WHITE      7  \n",
              "140550            WHITE HISPANIC      9  \n",
              "140551            WHITE HISPANIC      9  \n",
              "140552                     BLACK      9  \n",
              "140553  ASIAN / PACIFIC ISLANDER      9  \n",
              "140554                     WHITE      6  \n",
              "140555                     BLACK      9  \n",
              "140556  ASIAN / PACIFIC ISLANDER      9  \n",
              "140557                     BLACK      9  \n",
              "140558            WHITE HISPANIC      7  \n",
              "140559            WHITE HISPANIC      9  \n",
              "140560                     BLACK      8  \n",
              "140561                     BLACK      7  \n",
              "140562                     BLACK      9  \n",
              "140563            WHITE HISPANIC      7  "
            ],
            "text/html": [
              "\n",
              "  <div id=\"df-8924cdae-f47f-46dc-978d-1ab910074fcd\">\n",
              "    <div class=\"colab-df-container\">\n",
              "      <div>\n",
              "<style scoped>\n",
              "    .dataframe tbody tr th:only-of-type {\n",
              "        vertical-align: middle;\n",
              "    }\n",
              "\n",
              "    .dataframe tbody tr th {\n",
              "        vertical-align: top;\n",
              "    }\n",
              "\n",
              "    .dataframe thead th {\n",
              "        text-align: right;\n",
              "    }\n",
              "</style>\n",
              "<table border=\"1\" class=\"dataframe\">\n",
              "  <thead>\n",
              "    <tr style=\"text-align: right;\">\n",
              "      <th></th>\n",
              "      <th>ARREST_KEY</th>\n",
              "      <th>ARREST_DATE</th>\n",
              "      <th>DETAIL_OFFENSE DESC</th>\n",
              "      <th>TYPE_OF_OFFENSE</th>\n",
              "      <th>LEVEL_OF_OFFENSE</th>\n",
              "      <th>ARREST_BORO</th>\n",
              "      <th>ARREST_PRECINCT</th>\n",
              "      <th>JURISDICTION_CODE</th>\n",
              "      <th>AGE_GROUP</th>\n",
              "      <th>PERP_SEX</th>\n",
              "      <th>PERP_RACE</th>\n",
              "      <th>MONTH</th>\n",
              "    </tr>\n",
              "  </thead>\n",
              "  <tbody>\n",
              "    <tr>\n",
              "      <th>140549</th>\n",
              "      <td>248783361</td>\n",
              "      <td>07/30/2022</td>\n",
              "      <td>LARCENY,PETIT FROM OPEN AREAS,</td>\n",
              "      <td>PETIT LARCENY</td>\n",
              "      <td>M</td>\n",
              "      <td>Q</td>\n",
              "      <td>103</td>\n",
              "      <td>0</td>\n",
              "      <td>25-44</td>\n",
              "      <td>M</td>\n",
              "      <td>WHITE</td>\n",
              "      <td>7</td>\n",
              "    </tr>\n",
              "    <tr>\n",
              "      <th>140550</th>\n",
              "      <td>251645542</td>\n",
              "      <td>09/27/2022</td>\n",
              "      <td>ASSAULT 3</td>\n",
              "      <td>ASSAULT 3 &amp; RELATED OFFENSES</td>\n",
              "      <td>M</td>\n",
              "      <td>K</td>\n",
              "      <td>90</td>\n",
              "      <td>0</td>\n",
              "      <td>25-44</td>\n",
              "      <td>M</td>\n",
              "      <td>WHITE HISPANIC</td>\n",
              "      <td>9</td>\n",
              "    </tr>\n",
              "    <tr>\n",
              "      <th>140551</th>\n",
              "      <td>250986872</td>\n",
              "      <td>09/13/2022</td>\n",
              "      <td>LARCENY,GRAND FROM OPEN AREAS, UNATTENDED</td>\n",
              "      <td>GRAND LARCENY</td>\n",
              "      <td>F</td>\n",
              "      <td>K</td>\n",
              "      <td>72</td>\n",
              "      <td>0</td>\n",
              "      <td>18-24</td>\n",
              "      <td>M</td>\n",
              "      <td>WHITE HISPANIC</td>\n",
              "      <td>9</td>\n",
              "    </tr>\n",
              "    <tr>\n",
              "      <th>140552</th>\n",
              "      <td>250475660</td>\n",
              "      <td>09/01/2022</td>\n",
              "      <td>CONTROLLED SUBSTANCE, POSSESSI</td>\n",
              "      <td>DANGEROUS DRUGS</td>\n",
              "      <td>M</td>\n",
              "      <td>Q</td>\n",
              "      <td>103</td>\n",
              "      <td>0</td>\n",
              "      <td>25-44</td>\n",
              "      <td>M</td>\n",
              "      <td>BLACK</td>\n",
              "      <td>9</td>\n",
              "    </tr>\n",
              "    <tr>\n",
              "      <th>140553</th>\n",
              "      <td>250744929</td>\n",
              "      <td>09/07/2022</td>\n",
              "      <td>INTOXICATED DRIVING,ALCOHOL</td>\n",
              "      <td>INTOXICATED &amp; IMPAIRED DRIVING</td>\n",
              "      <td>M</td>\n",
              "      <td>Q</td>\n",
              "      <td>105</td>\n",
              "      <td>0</td>\n",
              "      <td>18-24</td>\n",
              "      <td>M</td>\n",
              "      <td>ASIAN / PACIFIC ISLANDER</td>\n",
              "      <td>9</td>\n",
              "    </tr>\n",
              "    <tr>\n",
              "      <th>140554</th>\n",
              "      <td>247306163</td>\n",
              "      <td>06/29/2022</td>\n",
              "      <td>LARCENY,PETIT FROM OPEN AREAS,</td>\n",
              "      <td>PETIT LARCENY</td>\n",
              "      <td>M</td>\n",
              "      <td>S</td>\n",
              "      <td>120</td>\n",
              "      <td>0</td>\n",
              "      <td>25-44</td>\n",
              "      <td>M</td>\n",
              "      <td>WHITE</td>\n",
              "      <td>6</td>\n",
              "    </tr>\n",
              "    <tr>\n",
              "      <th>140555</th>\n",
              "      <td>250576362</td>\n",
              "      <td>09/04/2022</td>\n",
              "      <td>CONTROLLED SUBSTANCE,INTENT TO</td>\n",
              "      <td>DANGEROUS DRUGS</td>\n",
              "      <td>F</td>\n",
              "      <td>K</td>\n",
              "      <td>70</td>\n",
              "      <td>0</td>\n",
              "      <td>25-44</td>\n",
              "      <td>M</td>\n",
              "      <td>BLACK</td>\n",
              "      <td>9</td>\n",
              "    </tr>\n",
              "    <tr>\n",
              "      <th>140556</th>\n",
              "      <td>250870373</td>\n",
              "      <td>09/10/2022</td>\n",
              "      <td>MENACING,UNCLASSIFIED</td>\n",
              "      <td>ASSAULT 3 &amp; RELATED OFFENSES</td>\n",
              "      <td>M</td>\n",
              "      <td>Q</td>\n",
              "      <td>106</td>\n",
              "      <td>0</td>\n",
              "      <td>65+</td>\n",
              "      <td>F</td>\n",
              "      <td>ASIAN / PACIFIC ISLANDER</td>\n",
              "      <td>9</td>\n",
              "    </tr>\n",
              "    <tr>\n",
              "      <th>140557</th>\n",
              "      <td>251181507</td>\n",
              "      <td>09/16/2022</td>\n",
              "      <td>THEFT OF SERVICES, UNCLASSIFIE</td>\n",
              "      <td>OTHER OFFENSES RELATED TO THEF</td>\n",
              "      <td>M</td>\n",
              "      <td>B</td>\n",
              "      <td>46</td>\n",
              "      <td>1</td>\n",
              "      <td>45-64</td>\n",
              "      <td>M</td>\n",
              "      <td>BLACK</td>\n",
              "      <td>9</td>\n",
              "    </tr>\n",
              "    <tr>\n",
              "      <th>140558</th>\n",
              "      <td>248182214</td>\n",
              "      <td>07/18/2022</td>\n",
              "      <td>BURGLARS TOOLS,UNCLASSIFIED</td>\n",
              "      <td>BURGLAR'S TOOLS</td>\n",
              "      <td>M</td>\n",
              "      <td>M</td>\n",
              "      <td>14</td>\n",
              "      <td>0</td>\n",
              "      <td>25-44</td>\n",
              "      <td>M</td>\n",
              "      <td>WHITE HISPANIC</td>\n",
              "      <td>7</td>\n",
              "    </tr>\n",
              "    <tr>\n",
              "      <th>140559</th>\n",
              "      <td>251412120</td>\n",
              "      <td>09/21/2022</td>\n",
              "      <td>OBSTR BREATH/CIRCUL</td>\n",
              "      <td>ASSAULT 3 &amp; RELATED OFFENSES</td>\n",
              "      <td>M</td>\n",
              "      <td>B</td>\n",
              "      <td>41</td>\n",
              "      <td>0</td>\n",
              "      <td>25-44</td>\n",
              "      <td>M</td>\n",
              "      <td>WHITE HISPANIC</td>\n",
              "      <td>9</td>\n",
              "    </tr>\n",
              "    <tr>\n",
              "      <th>140560</th>\n",
              "      <td>249578318</td>\n",
              "      <td>08/15/2022</td>\n",
              "      <td>STRANGULATION 1ST</td>\n",
              "      <td>FELONY ASSAULT</td>\n",
              "      <td>F</td>\n",
              "      <td>K</td>\n",
              "      <td>70</td>\n",
              "      <td>0</td>\n",
              "      <td>25-44</td>\n",
              "      <td>M</td>\n",
              "      <td>BLACK</td>\n",
              "      <td>8</td>\n",
              "    </tr>\n",
              "    <tr>\n",
              "      <th>140561</th>\n",
              "      <td>247641284</td>\n",
              "      <td>07/06/2022</td>\n",
              "      <td>LARCENY,PETIT FROM OPEN AREAS,</td>\n",
              "      <td>PETIT LARCENY</td>\n",
              "      <td>M</td>\n",
              "      <td>K</td>\n",
              "      <td>78</td>\n",
              "      <td>0</td>\n",
              "      <td>45-64</td>\n",
              "      <td>M</td>\n",
              "      <td>BLACK</td>\n",
              "      <td>7</td>\n",
              "    </tr>\n",
              "    <tr>\n",
              "      <th>140562</th>\n",
              "      <td>251006627</td>\n",
              "      <td>09/13/2022</td>\n",
              "      <td>DRUG PARAPHERNALIA,   POSSESSE</td>\n",
              "      <td>DANGEROUS DRUGS</td>\n",
              "      <td>M</td>\n",
              "      <td>B</td>\n",
              "      <td>43</td>\n",
              "      <td>0</td>\n",
              "      <td>25-44</td>\n",
              "      <td>F</td>\n",
              "      <td>BLACK</td>\n",
              "      <td>9</td>\n",
              "    </tr>\n",
              "    <tr>\n",
              "      <th>140563</th>\n",
              "      <td>248124580</td>\n",
              "      <td>07/16/2022</td>\n",
              "      <td>NY STATE LAWS,UNCLASSIFIED FEL</td>\n",
              "      <td>NYS LAWS-UNCLASSIFIED FELONY</td>\n",
              "      <td>F</td>\n",
              "      <td>M</td>\n",
              "      <td>32</td>\n",
              "      <td>0</td>\n",
              "      <td>45-64</td>\n",
              "      <td>M</td>\n",
              "      <td>WHITE HISPANIC</td>\n",
              "      <td>7</td>\n",
              "    </tr>\n",
              "  </tbody>\n",
              "</table>\n",
              "</div>\n",
              "      <button class=\"colab-df-convert\" onclick=\"convertToInteractive('df-8924cdae-f47f-46dc-978d-1ab910074fcd')\"\n",
              "              title=\"Convert this dataframe to an interactive table.\"\n",
              "              style=\"display:none;\">\n",
              "        \n",
              "  <svg xmlns=\"http://www.w3.org/2000/svg\" height=\"24px\"viewBox=\"0 0 24 24\"\n",
              "       width=\"24px\">\n",
              "    <path d=\"M0 0h24v24H0V0z\" fill=\"none\"/>\n",
              "    <path d=\"M18.56 5.44l.94 2.06.94-2.06 2.06-.94-2.06-.94-.94-2.06-.94 2.06-2.06.94zm-11 1L8.5 8.5l.94-2.06 2.06-.94-2.06-.94L8.5 2.5l-.94 2.06-2.06.94zm10 10l.94 2.06.94-2.06 2.06-.94-2.06-.94-.94-2.06-.94 2.06-2.06.94z\"/><path d=\"M17.41 7.96l-1.37-1.37c-.4-.4-.92-.59-1.43-.59-.52 0-1.04.2-1.43.59L10.3 9.45l-7.72 7.72c-.78.78-.78 2.05 0 2.83L4 21.41c.39.39.9.59 1.41.59.51 0 1.02-.2 1.41-.59l7.78-7.78 2.81-2.81c.8-.78.8-2.07 0-2.86zM5.41 20L4 18.59l7.72-7.72 1.47 1.35L5.41 20z\"/>\n",
              "  </svg>\n",
              "      </button>\n",
              "      \n",
              "  <style>\n",
              "    .colab-df-container {\n",
              "      display:flex;\n",
              "      flex-wrap:wrap;\n",
              "      gap: 12px;\n",
              "    }\n",
              "\n",
              "    .colab-df-convert {\n",
              "      background-color: #E8F0FE;\n",
              "      border: none;\n",
              "      border-radius: 50%;\n",
              "      cursor: pointer;\n",
              "      display: none;\n",
              "      fill: #1967D2;\n",
              "      height: 32px;\n",
              "      padding: 0 0 0 0;\n",
              "      width: 32px;\n",
              "    }\n",
              "\n",
              "    .colab-df-convert:hover {\n",
              "      background-color: #E2EBFA;\n",
              "      box-shadow: 0px 1px 2px rgba(60, 64, 67, 0.3), 0px 1px 3px 1px rgba(60, 64, 67, 0.15);\n",
              "      fill: #174EA6;\n",
              "    }\n",
              "\n",
              "    [theme=dark] .colab-df-convert {\n",
              "      background-color: #3B4455;\n",
              "      fill: #D2E3FC;\n",
              "    }\n",
              "\n",
              "    [theme=dark] .colab-df-convert:hover {\n",
              "      background-color: #434B5C;\n",
              "      box-shadow: 0px 1px 3px 1px rgba(0, 0, 0, 0.15);\n",
              "      filter: drop-shadow(0px 1px 2px rgba(0, 0, 0, 0.3));\n",
              "      fill: #FFFFFF;\n",
              "    }\n",
              "  </style>\n",
              "\n",
              "      <script>\n",
              "        const buttonEl =\n",
              "          document.querySelector('#df-8924cdae-f47f-46dc-978d-1ab910074fcd button.colab-df-convert');\n",
              "        buttonEl.style.display =\n",
              "          google.colab.kernel.accessAllowed ? 'block' : 'none';\n",
              "\n",
              "        async function convertToInteractive(key) {\n",
              "          const element = document.querySelector('#df-8924cdae-f47f-46dc-978d-1ab910074fcd');\n",
              "          const dataTable =\n",
              "            await google.colab.kernel.invokeFunction('convertToInteractive',\n",
              "                                                     [key], {});\n",
              "          if (!dataTable) return;\n",
              "\n",
              "          const docLinkHtml = 'Like what you see? Visit the ' +\n",
              "            '<a target=\"_blank\" href=https://colab.research.google.com/notebooks/data_table.ipynb>data table notebook</a>'\n",
              "            + ' to learn more about interactive tables.';\n",
              "          element.innerHTML = '';\n",
              "          dataTable['output_type'] = 'display_data';\n",
              "          await google.colab.output.renderOutput(dataTable, element);\n",
              "          const docLink = document.createElement('div');\n",
              "          docLink.innerHTML = docLinkHtml;\n",
              "          element.appendChild(docLink);\n",
              "        }\n",
              "      </script>\n",
              "    </div>\n",
              "  </div>\n",
              "  "
            ]
          },
          "metadata": {},
          "execution_count": 104
        }
      ]
    },
    {
      "cell_type": "code",
      "source": [
        "clean_data2.isnull().sum()"
      ],
      "metadata": {
        "id": "qiHaF1KCxqJd",
        "colab": {
          "base_uri": "https://localhost:8080/"
        },
        "outputId": "262b25b7-a5e2-4bf3-f9ef-46589ba7e2d6"
      },
      "execution_count": 35,
      "outputs": [
        {
          "output_type": "execute_result",
          "data": {
            "text/plain": [
              "ARREST_KEY                0\n",
              "ARREST_DATE               0\n",
              "DETAIL_OFFENSE DESC       0\n",
              "TYPE_OF_OFFENSE           0\n",
              "LEVEL_OF_OFFENSE       1362\n",
              "ARREST_BORO               0\n",
              "ARREST_PRECINCT           0\n",
              "JURISDICTION_CODE         0\n",
              "AGE_GROUP                 0\n",
              "PERP_SEX                  0\n",
              "PERP_RACE                 0\n",
              "dtype: int64"
            ]
          },
          "metadata": {},
          "execution_count": 35
        }
      ]
    },
    {
      "cell_type": "markdown",
      "source": [
        "## Which is the Borough with the most arrests?"
      ],
      "metadata": {
        "id": "vuzmUQJxE0d3"
      }
    },
    {
      "cell_type": "code",
      "source": [
        "clean_data2['ARREST_BORO'].value_counts() ## gives us the count of all the arrests in all Boroughs, Brooklyn has the most arrests and the Bronx was number three."
      ],
      "metadata": {
        "id": "7ZLoz6UCvim5",
        "colab": {
          "base_uri": "https://localhost:8080/"
        },
        "outputId": "ed038137-a9a7-4b87-8cdd-f060d8a8b2c1"
      },
      "execution_count": 100,
      "outputs": [
        {
          "output_type": "execute_result",
          "data": {
            "text/plain": [
              "K    38067\n",
              "M    34588\n",
              "B    32309\n",
              "Q    29353\n",
              "S     6247\n",
              "Name: ARREST_BORO, dtype: int64"
            ]
          },
          "metadata": {},
          "execution_count": 100
        }
      ]
    },
    {
      "cell_type": "code",
      "source": [
        "clean_data2['ARREST_BORO'].value_counts().sort_values().plot(kind=\"barh\", color = '#1ABC9C', title = 'Total of Arrests by Borough')\n",
        "##From our Visualization below we could see that Brooklyn is the Borough with the most arrests."
      ],
      "metadata": {
        "id": "-2jmkKWU6gwd",
        "colab": {
          "base_uri": "https://localhost:8080/",
          "height": 298
        },
        "outputId": "4a9637f0-9f6d-409a-9d59-aa8e7f73f931"
      },
      "execution_count": 43,
      "outputs": [
        {
          "output_type": "execute_result",
          "data": {
            "text/plain": [
              "<matplotlib.axes._subplots.AxesSubplot at 0x7f807e8a3310>"
            ]
          },
          "metadata": {},
          "execution_count": 43
        },
        {
          "output_type": "display_data",
          "data": {
            "text/plain": [
              "<Figure size 432x288 with 1 Axes>"
            ],
            "image/png": "[encoded data removed]"
          },
          "metadata": {
            "needs_background": "light"
          }
        }
      ]
    },
    {
      "cell_type": "code",
      "source": [
        "age_group = clean_data2[\"AGE_GROUP\"].tolist() \n",
        "print(\"Most arrests occured within the age group of % s\" % (statistics.mode(age_group))) \n",
        "## I was curious to see what age group compromised most arrests"
      ],
      "metadata": {
        "colab": {
          "base_uri": "https://localhost:8080/"
        },
        "id": "NsPJiy946Acd",
        "outputId": "7a502acd-6387-4f41-cb52-cc1ef64464d7"
      },
      "execution_count": 88,
      "outputs": [
        {
          "output_type": "stream",
          "name": "stdout",
          "text": [
            "Most arrests occured within the age group of 25-44\n"
          ]
        }
      ]
    },
    {
      "cell_type": "markdown",
      "source": [
        "## What are the top ten occuring crimes in NYC?"
      ],
      "metadata": {
        "id": "hRQSxt19E_gx"
      }
    },
    {
      "cell_type": "code",
      "source": [
        "clean_data2.columns"
      ],
      "metadata": {
        "id": "VAKiNr5Mwimd",
        "colab": {
          "base_uri": "https://localhost:8080/"
        },
        "outputId": "9fd8593b-4ead-4592-a2fb-2c0abcba1046"
      },
      "execution_count": 58,
      "outputs": [
        {
          "output_type": "execute_result",
          "data": {
            "text/plain": [
              "Index(['ARREST_KEY', 'ARREST_DATE', 'DETAIL_OFFENSE DESC', 'TYPE_OF_OFFENSE',\n",
              "       'LEVEL_OF_OFFENSE', 'ARREST_BORO', 'ARREST_PRECINCT',\n",
              "       'JURISDICTION_CODE', 'AGE_GROUP', 'PERP_SEX', 'PERP_RACE', 'MONTH'],\n",
              "      dtype='object')"
            ]
          },
          "metadata": {},
          "execution_count": 58
        }
      ]
    },
    {
      "cell_type": "code",
      "source": [
        "clean_data2.TYPE_OF_OFFENSE.value_counts().iloc[:10].sort_values().plot(kind=\"barh\", title = \"Top Ten Crimes in NYC\")\n",
        "## Most of the arrests were due to Assault in Third degree. Assault in the third degree is the lowest tier of assault charges. \n",
        "## It occurs when someone inflicts physical injury – a bodily impairment or substantial pain – on another person."
      ],
      "metadata": {
        "id": "QlIM4o703pZd",
        "colab": {
          "base_uri": "https://localhost:8080/",
          "height": 298
        },
        "outputId": "3dd4320b-f1e5-4d79-aae3-49061ea0c7dd"
      },
      "execution_count": 63,
      "outputs": [
        {
          "output_type": "execute_result",
          "data": {
            "text/plain": [
              "<matplotlib.axes._subplots.AxesSubplot at 0x7f807b724790>"
            ]
          },
          "metadata": {},
          "execution_count": 63
        },
        {
          "output_type": "display_data",
          "data": {
            "text/plain": [
              "<Figure size 432x288 with 1 Axes>"
            ],
            "image/png": "[encoded data removed]"
          },
          "metadata": {
            "needs_background": "light"
          }
        }
      ]
    },
    {
      "cell_type": "code",
      "source": [
        "Bronx_df= clean_data2[(clean_data2['ARREST_BORO'] == 'B')] ##filtered the data for the Bronx only and renamed it "
      ],
      "metadata": {
        "id": "Vh80XeNWsBxL"
      },
      "execution_count": 59,
      "outputs": []
    },
    {
      "cell_type": "code",
      "source": [
        "Bronx_df ## checked my data "
      ],
      "metadata": {
        "id": "ZshCSo1nsXdU"
      },
      "execution_count": null,
      "outputs": []
    },
    {
      "cell_type": "code",
      "source": [
        "Bronx_df.TYPE_OF_OFFENSE.value_counts().iloc[:10].sort_values().plot(kind=\"barh\", title = \"Top Ten Crimes in The Bronx\")\n",
        "## The second most occurring crime in the Bronx was for Felony Assault.  \n",
        "## Felony assault is more serious than Assault in the third degree. Dangerous drugs was the fifth most occurring crime in the Bronx."
      ],
      "metadata": {
        "colab": {
          "base_uri": "https://localhost:8080/",
          "height": 298
        },
        "id": "Ad_FQDHxtCuk",
        "outputId": "0f736954-5634-433a-a2a7-d1e9caafc814"
      },
      "execution_count": 62,
      "outputs": [
        {
          "output_type": "execute_result",
          "data": {
            "text/plain": [
              "<matplotlib.axes._subplots.AxesSubplot at 0x7f807b7d6d00>"
            ]
          },
          "metadata": {},
          "execution_count": 62
        },
        {
          "output_type": "display_data",
          "data": {
            "text/plain": [
              "<Figure size 432x288 with 1 Axes>"
            ],
            "image/png": "[encoded data removed]"
          },
          "metadata": {
            "needs_background": "light"
          }
        }
      ]
    },
    {
      "cell_type": "code",
      "source": [
        "clean_data2['LEVEL_OF_OFFENSE'].value_counts() ## Misdemenors was the most common level of offense in NYC"
      ],
      "metadata": {
        "colab": {
          "base_uri": "https://localhost:8080/"
        },
        "id": "_wSvmOyN9yZw",
        "outputId": "919951b5-c4f0-4003-fc7e-b1b56771c111"
      },
      "execution_count": 101,
      "outputs": [
        {
          "output_type": "execute_result",
          "data": {
            "text/plain": [
              "M    74915\n",
              "F    63227\n",
              "V      539\n",
              "9      328\n",
              "I      193\n",
              "Name: LEVEL_OF_OFFENSE, dtype: int64"
            ]
          },
          "metadata": {},
          "execution_count": 101
        }
      ]
    },
    {
      "cell_type": "markdown",
      "source": [
        "## Total Arrests by Month"
      ],
      "metadata": {
        "id": "Y9YUZjpgBtyr"
      }
    },
    {
      "cell_type": "markdown",
      "source": [],
      "metadata": {
        "id": "H22p4o888tgz"
      }
    },
    {
      "cell_type": "code",
      "source": [
        "clean_data2['MONTH'] = pd.DatetimeIndex(data['ARREST_DATE']).month\n",
        "clean_data2['MONTH']\n",
        "## I wanted to look at the number of crimes per month and see if the number of arrests varied by month.\n",
        "## In order to do this I extracted the month from the 'ARREST_DATE' column and created a new column named 'MONTH'."
      ],
      "metadata": {
        "id": "MM_2SJsnGgO0",
        "colab": {
          "base_uri": "https://localhost:8080/"
        },
        "outputId": "e328750f-32b0-4a3f-b0b1-847fdebe2f6f"
      },
      "execution_count": 46,
      "outputs": [
        {
          "output_type": "execute_result",
          "data": {
            "text/plain": [
              "0         1\n",
              "1         1\n",
              "2         1\n",
              "3         3\n",
              "4         2\n",
              "         ..\n",
              "140559    9\n",
              "140560    8\n",
              "140561    7\n",
              "140562    9\n",
              "140563    7\n",
              "Name: MONTH, Length: 140564, dtype: int64"
            ]
          },
          "metadata": {},
          "execution_count": 46
        }
      ]
    },
    {
      "cell_type": "code",
      "source": [
        "clean_data2.groupby('MONTH').size().plot(kind = 'bar', title ='Total Arrests by Month', color = 'orange',rot=0)\n",
        "## The graph below shows that the number of arrests do not vary much by month. January was the month with the lowest number of arrests. "
      ],
      "metadata": {
        "id": "guFGGe8V7z5L",
        "colab": {
          "base_uri": "https://localhost:8080/",
          "height": 312
        },
        "outputId": "b196297e-7965-49ac-89cf-a976d0931e83"
      },
      "execution_count": 105,
      "outputs": [
        {
          "output_type": "execute_result",
          "data": {
            "text/plain": [
              "<matplotlib.axes._subplots.AxesSubplot at 0x7f807b1198e0>"
            ]
          },
          "metadata": {},
          "execution_count": 105
        },
        {
          "output_type": "display_data",
          "data": {
            "text/plain": [
              "<Figure size 432x288 with 1 Axes>"
            ],
            "image/png": "[encoded data removed]"
          },
          "metadata": {
            "needs_background": "light"
          }
        }
      ]
    },
    {
      "cell_type": "code",
      "source": [
        "clean_data2['MONTH'].value_counts()"
      ],
      "metadata": {
        "id": "hr8zJPyrCH0I",
        "colab": {
          "base_uri": "https://localhost:8080/"
        },
        "outputId": "df4aaea6-8287-4ddb-829f-08d46c218e98"
      },
      "execution_count": 48,
      "outputs": [
        {
          "output_type": "execute_result",
          "data": {
            "text/plain": [
              "3    16940\n",
              "5    16552\n",
              "6    16403\n",
              "4    16079\n",
              "9    15804\n",
              "7    15792\n",
              "8    15734\n",
              "2    14070\n",
              "1    13190\n",
              "Name: MONTH, dtype: int64"
            ]
          },
          "metadata": {},
          "execution_count": 48
        }
      ]
    },
    {
      "cell_type": "code",
      "source": [
        "clean_data2['MONTH'].value_counts().mean() ## The average number of arrests per month was about 15,618 arrest per month. "
      ],
      "metadata": {
        "id": "rkQcZuDk6qlp",
        "colab": {
          "base_uri": "https://localhost:8080/"
        },
        "outputId": "d6a6b0a3-f5d9-4346-d779-9bcf55eca5e3"
      },
      "execution_count": 49,
      "outputs": [
        {
          "output_type": "execute_result",
          "data": {
            "text/plain": [
              "15618.222222222223"
            ]
          },
          "metadata": {},
          "execution_count": 49
        }
      ]
    },
    {
      "cell_type": "code",
      "source": [
        "Bronx_df['MONTH'].value_counts().mean() ## The average number of arrests per month in the Bronx was about 3,590 per month "
      ],
      "metadata": {
        "colab": {
          "base_uri": "https://localhost:8080/"
        },
        "id": "zlu_RlJB68He",
        "outputId": "12727693-0cb5-4f4c-b1e3-0a16922a2f93"
      },
      "execution_count": 89,
      "outputs": [
        {
          "output_type": "execute_result",
          "data": {
            "text/plain": [
              "3589.8888888888887"
            ]
          },
          "metadata": {},
          "execution_count": 89
        }
      ]
    },
    {
      "cell_type": "code",
      "source": [
        "Bronx_df['MONTH'].value_counts()"
      ],
      "metadata": {
        "colab": {
          "base_uri": "https://localhost:8080/"
        },
        "id": "4riCtiip7cFO",
        "outputId": "bb8906e1-c7dc-42ad-e397-a0a2f4b1eb26"
      },
      "execution_count": 92,
      "outputs": [
        {
          "output_type": "execute_result",
          "data": {
            "text/plain": [
              "3    3870\n",
              "9    3776\n",
              "6    3724\n",
              "8    3693\n",
              "5    3690\n",
              "7    3646\n",
              "4    3608\n",
              "2    3313\n",
              "1    2989\n",
              "Name: MONTH, dtype: int64"
            ]
          },
          "metadata": {},
          "execution_count": 92
        }
      ]
    },
    {
      "cell_type": "markdown",
      "source": [
        "## Sex crimes in NYC compared to the Bronx."
      ],
      "metadata": {
        "id": "oAP4CtAC_ZNK"
      }
    },
    {
      "cell_type": "code",
      "source": [
        "sex_crimesNYC= clean_data2[clean_data2.TYPE_OF_OFFENSE.str.contains('SEX CRIMES|RAPE')]\n",
        "##filtered out the data to only show the offenses that contained 'sex crimes' and 'rape'"
      ],
      "metadata": {
        "id": "_72Wt46__FIf"
      },
      "execution_count": 70,
      "outputs": []
    },
    {
      "cell_type": "code",
      "source": [
        "sex_crimesNYC['TYPE_OF_OFFENSE'].count()\n",
        "## Betweem January and September there were a total of 3,761 arrests for sex crimes in NYC. "
      ],
      "metadata": {
        "id": "Uh7J6cL1Dg_8",
        "colab": {
          "base_uri": "https://localhost:8080/"
        },
        "outputId": "1d3f1a38-e115-47d4-e27e-3b720456afd1"
      },
      "execution_count": 71,
      "outputs": [
        {
          "output_type": "execute_result",
          "data": {
            "text/plain": [
              "3761"
            ]
          },
          "metadata": {},
          "execution_count": 71
        }
      ]
    },
    {
      "cell_type": "code",
      "source": [
        "sex_crimesNYC.groupby(['TYPE_OF_OFFENSE'])['ARREST_KEY'].count()"
      ],
      "metadata": {
        "id": "ZNt_0QP5A78g",
        "colab": {
          "base_uri": "https://localhost:8080/"
        },
        "outputId": "ae8ccdb3-691b-4dc6-a673-7f72e23f5a56"
      },
      "execution_count": 72,
      "outputs": [
        {
          "output_type": "execute_result",
          "data": {
            "text/plain": [
              "TYPE_OF_OFFENSE\n",
              "RAPE           569\n",
              "SEX CRIMES    3192\n",
              "Name: ARREST_KEY, dtype: int64"
            ]
          },
          "metadata": {},
          "execution_count": 72
        }
      ]
    },
    {
      "cell_type": "code",
      "source": [
        "sex_crimesNYC.groupby('MONTH').size().plot(kind = 'bar', title ='Total Sex Crimes by Month in NYC', color = 'orange',rot=0)"
      ],
      "metadata": {
        "id": "Z3BY40UgCry8",
        "colab": {
          "base_uri": "https://localhost:8080/",
          "height": 312
        },
        "outputId": "bf36af5a-9efe-49c2-aa2f-0d677031db14"
      },
      "execution_count": 95,
      "outputs": [
        {
          "output_type": "execute_result",
          "data": {
            "text/plain": [
              "<matplotlib.axes._subplots.AxesSubplot at 0x7f807b1df670>"
            ]
          },
          "metadata": {},
          "execution_count": 95
        },
        {
          "output_type": "display_data",
          "data": {
            "text/plain": [
              "<Figure size 432x288 with 1 Axes>"
            ],
            "image/png": "[encoded data removed]"
          },
          "metadata": {
            "needs_background": "light"
          }
        }
      ]
    },
    {
      "cell_type": "code",
      "source": [
        "BX_sexcrimes = Bronx_df[Bronx_df.TYPE_OF_OFFENSE.str.contains('SEX CRIMES|RAPE')] ##filtered to only show the Bronx data "
      ],
      "metadata": {
        "id": "quii-Eqgy-5u"
      },
      "execution_count": 73,
      "outputs": []
    },
    {
      "cell_type": "code",
      "source": [
        "BX_sexcrimes['TYPE_OF_OFFENSE'].count()\n",
        "## In the Bronx there were a total of 852 arrests due to sex crimes."
      ],
      "metadata": {
        "colab": {
          "base_uri": "https://localhost:8080/"
        },
        "id": "wtuCD3bvzBSW",
        "outputId": "c4665219-7d79-4977-a706-096632a4560f"
      },
      "execution_count": 83,
      "outputs": [
        {
          "output_type": "execute_result",
          "data": {
            "text/plain": [
              "852"
            ]
          },
          "metadata": {},
          "execution_count": 83
        }
      ]
    },
    {
      "cell_type": "code",
      "source": [
        "BX_percentage = BX_sexcrimes['TYPE_OF_OFFENSE'].count()/sex_crimesNYC['TYPE_OF_OFFENSE'].count()\n",
        "BX_percentage\n",
        "## About 23% of the sex crimes occur in the Bronx "
      ],
      "metadata": {
        "colab": {
          "base_uri": "https://localhost:8080/"
        },
        "id": "qSmav1AG1kSK",
        "outputId": "4577c8f5-11a0-4fdc-e8bc-5aeed4208b27"
      },
      "execution_count": 85,
      "outputs": [
        {
          "output_type": "execute_result",
          "data": {
            "text/plain": [
              "0.22653549587875565"
            ]
          },
          "metadata": {},
          "execution_count": 85
        }
      ]
    },
    {
      "cell_type": "code",
      "source": [
        "BX_sexcrimes.groupby(['TYPE_OF_OFFENSE'])['ARREST_KEY'].count()"
      ],
      "metadata": {
        "colab": {
          "base_uri": "https://localhost:8080/"
        },
        "id": "DNsfc8DjzlTp",
        "outputId": "7a684e74-010b-422f-8d2c-a1e371689b38"
      },
      "execution_count": 79,
      "outputs": [
        {
          "output_type": "execute_result",
          "data": {
            "text/plain": [
              "TYPE_OF_OFFENSE\n",
              "RAPE          179\n",
              "SEX CRIMES    673\n",
              "Name: ARREST_KEY, dtype: int64"
            ]
          },
          "metadata": {},
          "execution_count": 79
        }
      ]
    },
    {
      "cell_type": "code",
      "source": [
        "BX_sexcrimes.groupby('MONTH').size().plot(kind = 'bar', title ='Total Sex Crimes by Month in the Bronx', color = '#C0392B',rot=0)\n",
        "## The month with the most sex crimes in the Bronx was June. The sex crimes had a slight increase in the summer months.  "
      ],
      "metadata": {
        "colab": {
          "base_uri": "https://localhost:8080/",
          "height": 312
        },
        "id": "UknCRzYx2J9O",
        "outputId": "df8b0075-3321-4aec-86d1-534dc1a87e5e"
      },
      "execution_count": 96,
      "outputs": [
        {
          "output_type": "execute_result",
          "data": {
            "text/plain": [
              "<matplotlib.axes._subplots.AxesSubplot at 0x7f807b1cb820>"
            ]
          },
          "metadata": {},
          "execution_count": 96
        },
        {
          "output_type": "display_data",
          "data": {
            "text/plain": [
              "<Figure size 432x288 with 1 Axes>"
            ],
            "image/png": "[encoded data removed]"
          },
          "metadata": {
            "needs_background": "light"
          }
        }
      ]
    },
    {
      "cell_type": "markdown",
      "source": [
        "## Conclusion"
      ],
      "metadata": {
        "id": "rLFLvXEsC2EN"
      }
    },
    {
      "cell_type": "markdown",
      "source": [
        "This data was interesting to inspect and analyze.  There was some bias going into this assigment since I reside in the Bronx. I was curious to see how the  data from Bronx would compare to the entire five Boroughs. I was surprised to learn that most crimes in NYC were due to Felonies. The Bronx did have more serious crimes compared to the rest of the city. I was also surprised to learn that Brooklyn was the Borough with the most arrests. The sex crime data was something I was also curious about. "
      ],
      "metadata": {
        "id": "ZIgwnI3oC6PZ"
      }
    }
  ]
}