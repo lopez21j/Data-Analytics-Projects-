{
  "cells": [
    {
      "cell_type": "markdown",
      "metadata": {
        "id": "view-in-github",
        "colab_type": "text"
      },
      "source": [
        "<a href=\"https://colab.research.google.com/github/lopez21j/Data-Analytics-Projects-/blob/main/CapstoneProject_GL.ipynb\" target=\"_parent\"><img src=\"https://colab.research.google.com/assets/colab-badge.svg\" alt=\"Open In Colab\"/></a>"
      ]
    },
    {
      "cell_type": "markdown",
      "metadata": {
        "id": "8gTGoOUix9NS"
      },
      "source": [
        "## How does diabetes and other indicators impact rates of readmission within hospitals?"
      ]
    },
    {
      "cell_type": "code",
      "execution_count": 1,
      "metadata": {
        "id": "Ebke5Ee8wudc"
      },
      "outputs": [],
      "source": [
        "import pandas as pd\n",
        "import numpy as np\n",
        "import seaborn as sns\n",
        "import matplotlib.pyplot as plt\n",
        "%matplotlib inline\n",
        "import matplotlib.pyplot as plt"
      ]
    },
    {
      "cell_type": "code",
      "execution_count": 2,
      "metadata": {
        "id": "UtirwofWw11p"
      },
      "outputs": [],
      "source": [
        "data = pd.read_csv(\"https://raw.githubusercontent.com/niteen11/DataAnalyticsAcademy/master/Python/dataset_diabetes/diabetic_data.csv\")"
      ]
    },
    {
      "cell_type": "markdown",
      "metadata": {
        "id": "PqqPE9gayOtl"
      },
      "source": [
        "## Analyzing the Data"
      ]
    },
    {
      "cell_type": "code",
      "execution_count": 3,
      "metadata": {
        "colab": {
          "base_uri": "https://localhost:8080/"
        },
        "id": "MbEBYlZIw-oB",
        "outputId": "a5968791-f7ca-4dd1-ed4b-83abbb6f4f23"
      },
      "outputs": [
        {
          "output_type": "stream",
          "name": "stdout",
          "text": [
            "<class 'pandas.core.frame.DataFrame'>\n",
            "RangeIndex: 101766 entries, 0 to 101765\n",
            "Data columns (total 50 columns):\n",
            " #   Column                    Non-Null Count   Dtype \n",
            "---  ------                    --------------   ----- \n",
            " 0   encounter_id              101766 non-null  int64 \n",
            " 1   patient_nbr               101766 non-null  int64 \n",
            " 2   race                      101766 non-null  object\n",
            " 3   gender                    101766 non-null  object\n",
            " 4   age                       101766 non-null  object\n",
            " 5   weight                    101766 non-null  object\n",
            " 6   admission_type_id         101766 non-null  int64 \n",
            " 7   discharge_disposition_id  101766 non-null  int64 \n",
            " 8   admission_source_id       101766 non-null  int64 \n",
            " 9   time_in_hospital          101766 non-null  int64 \n",
            " 10  payer_code                101766 non-null  object\n",
            " 11  medical_specialty         101766 non-null  object\n",
            " 12  num_lab_procedures        101766 non-null  int64 \n",
            " 13  num_procedures            101766 non-null  int64 \n",
            " 14  num_medications           101766 non-null  int64 \n",
            " 15  number_outpatient         101766 non-null  int64 \n",
            " 16  number_emergency          101766 non-null  int64 \n",
            " 17  number_inpatient          101766 non-null  int64 \n",
            " 18  diag_1                    101766 non-null  object\n",
            " 19  diag_2                    101766 non-null  object\n",
            " 20  diag_3                    101766 non-null  object\n",
            " 21  number_diagnoses          101766 non-null  int64 \n",
            " 22  max_glu_serum             101766 non-null  object\n",
            " 23  A1Cresult                 101766 non-null  object\n",
            " 24  metformin                 101766 non-null  object\n",
            " 25  repaglinide               101766 non-null  object\n",
            " 26  nateglinide               101766 non-null  object\n",
            " 27  chlorpropamide            101766 non-null  object\n",
            " 28  glimepiride               101766 non-null  object\n",
            " 29  acetohexamide             101766 non-null  object\n",
            " 30  glipizide                 101766 non-null  object\n",
            " 31  glyburide                 101766 non-null  object\n",
            " 32  tolbutamide               101766 non-null  object\n",
            " 33  pioglitazone              101766 non-null  object\n",
            " 34  rosiglitazone             101766 non-null  object\n",
            " 35  acarbose                  101766 non-null  object\n",
            " 36  miglitol                  101766 non-null  object\n",
            " 37  troglitazone              101766 non-null  object\n",
            " 38  tolazamide                101766 non-null  object\n",
            " 39  examide                   101766 non-null  object\n",
            " 40  citoglipton               101766 non-null  object\n",
            " 41  insulin                   101766 non-null  object\n",
            " 42  glyburide-metformin       101766 non-null  object\n",
            " 43  glipizide-metformin       101766 non-null  object\n",
            " 44  glimepiride-pioglitazone  101766 non-null  object\n",
            " 45  metformin-rosiglitazone   101766 non-null  object\n",
            " 46  metformin-pioglitazone    101766 non-null  object\n",
            " 47  change                    101766 non-null  object\n",
            " 48  diabetesMed               101766 non-null  object\n",
            " 49  readmitted                101766 non-null  object\n",
            "dtypes: int64(13), object(37)\n",
            "memory usage: 38.8+ MB\n"
          ]
        }
      ],
      "source": [
        "data.info()"
      ]
    },
    {
      "cell_type": "code",
      "execution_count": 4,
      "metadata": {
        "id": "3yTgN6cLyWeN",
        "colab": {
          "base_uri": "https://localhost:8080/"
        },
        "outputId": "43f54e59-980c-4090-96e3-fd05936b3136"
      },
      "outputs": [
        {
          "output_type": "execute_result",
          "data": {
            "text/plain": [
              "Index(['encounter_id', 'patient_nbr', 'race', 'gender', 'age', 'weight',\n",
              "       'admission_type_id', 'discharge_disposition_id', 'admission_source_id',\n",
              "       'time_in_hospital', 'payer_code', 'medical_specialty',\n",
              "       'num_lab_procedures', 'num_procedures', 'num_medications',\n",
              "       'number_outpatient', 'number_emergency', 'number_inpatient', 'diag_1',\n",
              "       'diag_2', 'diag_3', 'number_diagnoses', 'max_glu_serum', 'A1Cresult',\n",
              "       'metformin', 'repaglinide', 'nateglinide', 'chlorpropamide',\n",
              "       'glimepiride', 'acetohexamide', 'glipizide', 'glyburide', 'tolbutamide',\n",
              "       'pioglitazone', 'rosiglitazone', 'acarbose', 'miglitol', 'troglitazone',\n",
              "       'tolazamide', 'examide', 'citoglipton', 'insulin',\n",
              "       'glyburide-metformin', 'glipizide-metformin',\n",
              "       'glimepiride-pioglitazone', 'metformin-rosiglitazone',\n",
              "       'metformin-pioglitazone', 'change', 'diabetesMed', 'readmitted'],\n",
              "      dtype='object')"
            ]
          },
          "metadata": {},
          "execution_count": 4
        }
      ],
      "source": [
        "data.columns"
      ]
    },
    {
      "cell_type": "code",
      "execution_count": 5,
      "metadata": {
        "id": "nzKB_0KV0vSs",
        "colab": {
          "base_uri": "https://localhost:8080/"
        },
        "outputId": "cda72e00-56ad-4f49-ab17-9c14690fb4b3"
      },
      "outputs": [
        {
          "output_type": "execute_result",
          "data": {
            "text/plain": [
              "encounter_id                0\n",
              "patient_nbr                 0\n",
              "race                        0\n",
              "gender                      0\n",
              "age                         0\n",
              "weight                      0\n",
              "admission_type_id           0\n",
              "discharge_disposition_id    0\n",
              "admission_source_id         0\n",
              "time_in_hospital            0\n",
              "payer_code                  0\n",
              "medical_specialty           0\n",
              "num_lab_procedures          0\n",
              "num_procedures              0\n",
              "num_medications             0\n",
              "number_outpatient           0\n",
              "number_emergency            0\n",
              "number_inpatient            0\n",
              "diag_1                      0\n",
              "diag_2                      0\n",
              "diag_3                      0\n",
              "number_diagnoses            0\n",
              "max_glu_serum               0\n",
              "A1Cresult                   0\n",
              "metformin                   0\n",
              "repaglinide                 0\n",
              "nateglinide                 0\n",
              "chlorpropamide              0\n",
              "glimepiride                 0\n",
              "acetohexamide               0\n",
              "glipizide                   0\n",
              "glyburide                   0\n",
              "tolbutamide                 0\n",
              "pioglitazone                0\n",
              "rosiglitazone               0\n",
              "acarbose                    0\n",
              "miglitol                    0\n",
              "troglitazone                0\n",
              "tolazamide                  0\n",
              "examide                     0\n",
              "citoglipton                 0\n",
              "insulin                     0\n",
              "glyburide-metformin         0\n",
              "glipizide-metformin         0\n",
              "glimepiride-pioglitazone    0\n",
              "metformin-rosiglitazone     0\n",
              "metformin-pioglitazone      0\n",
              "change                      0\n",
              "diabetesMed                 0\n",
              "readmitted                  0\n",
              "dtype: int64"
            ]
          },
          "metadata": {},
          "execution_count": 5
        }
      ],
      "source": [
        "data.isnull().sum()"
      ]
    },
    {
      "cell_type": "code",
      "execution_count": 6,
      "metadata": {
        "id": "JR4lgKxB2BP_",
        "colab": {
          "base_uri": "https://localhost:8080/"
        },
        "outputId": "d309e7ce-8f64-4360-f8d9-06db98f83993"
      },
      "outputs": [
        {
          "output_type": "execute_result",
          "data": {
            "text/plain": [
              "True"
            ]
          },
          "metadata": {},
          "execution_count": 6
        }
      ],
      "source": [
        "data['encounter_id'].is_unique ## checking if the column 'ecounter_id' is unique "
      ]
    },
    {
      "cell_type": "markdown",
      "metadata": {
        "id": "EYUx2HOk1SBg"
      },
      "source": [
        "## Quick Stats. \n",
        "The total number of patients is 101,766. The average time in the hospital is 4.4 days. The max number of days for time spent in the hospital is 14 days.\n"
      ]
    },
    {
      "cell_type": "code",
      "execution_count": 41,
      "metadata": {
        "id": "Zq6YEVVL0zym",
        "colab": {
          "base_uri": "https://localhost:8080/",
          "height": 361
        },
        "outputId": "ec96eba7-dffc-440a-d561-d19edb4d7933"
      },
      "outputs": [
        {
          "output_type": "execute_result",
          "data": {
            "text/plain": [
              "       encounter_id   patient_nbr  admission_type_id  \\\n",
              "count  1.001140e+05  1.001140e+05      100114.000000   \n",
              "mean   1.653032e+08  5.430611e+07           2.028597   \n",
              "std    1.027194e+08  3.871493e+07           1.446225   \n",
              "min    1.252200e+04  1.350000e+02           1.000000   \n",
              "25%    8.493462e+07  2.339867e+07           1.000000   \n",
              "50%    1.524511e+08  4.548078e+07           1.000000   \n",
              "75%    2.305332e+08  8.755836e+07           3.000000   \n",
              "max    4.438672e+08  1.895026e+08           8.000000   \n",
              "\n",
              "       discharge_disposition_id  admission_source_id  time_in_hospital  \\\n",
              "count             100114.000000        100114.000000     100114.000000   \n",
              "mean                   3.594622             5.738388          4.389646   \n",
              "std                    5.237490             4.066412          2.974531   \n",
              "min                    1.000000             1.000000          1.000000   \n",
              "25%                    1.000000             1.000000          2.000000   \n",
              "50%                    1.000000             7.000000          4.000000   \n",
              "75%                    3.000000             7.000000          6.000000   \n",
              "max                   28.000000            25.000000         14.000000   \n",
              "\n",
              "       num_lab_procedures  num_procedures  num_medications  number_outpatient  \\\n",
              "count       100114.000000   100114.000000    100114.000000      100114.000000   \n",
              "mean            42.943305        1.330723        15.981821           0.369429   \n",
              "std             19.620940        1.700286         8.092511           1.264006   \n",
              "min              1.000000        0.000000         1.000000           0.000000   \n",
              "25%             31.000000        0.000000        10.000000           0.000000   \n",
              "50%             44.000000        1.000000        15.000000           0.000000   \n",
              "75%             57.000000        2.000000        20.000000           0.000000   \n",
              "max            132.000000        6.000000        81.000000          42.000000   \n",
              "\n",
              "       number_emergency  number_inpatient  number_diagnoses      30readmit  \n",
              "count     100114.000000     100114.000000     100114.000000  100114.000000  \n",
              "mean           0.198334          0.632829          7.409164       0.468486  \n",
              "std            0.935537          1.261833          1.938288       0.499008  \n",
              "min            0.000000          0.000000          1.000000       0.000000  \n",
              "25%            0.000000          0.000000          6.000000       0.000000  \n",
              "50%            0.000000          0.000000          8.000000       0.000000  \n",
              "75%            0.000000          1.000000          9.000000       1.000000  \n",
              "max           76.000000         21.000000         16.000000       1.000000  "
            ],
            "text/html": [
              "\n",
              "  <div id=\"df-941ce681-45c1-4b9b-90c6-3fe9f56157c0\">\n",
              "    <div class=\"colab-df-container\">\n",
              "      <div>\n",
              "<style scoped>\n",
              "    .dataframe tbody tr th:only-of-type {\n",
              "        vertical-align: middle;\n",
              "    }\n",
              "\n",
              "    .dataframe tbody tr th {\n",
              "        vertical-align: top;\n",
              "    }\n",
              "\n",
              "    .dataframe thead th {\n",
              "        text-align: right;\n",
              "    }\n",
              "</style>\n",
              "<table border=\"1\" class=\"dataframe\">\n",
              "  <thead>\n",
              "    <tr style=\"text-align: right;\">\n",
              "      <th></th>\n",
              "      <th>encounter_id</th>\n",
              "      <th>patient_nbr</th>\n",
              "      <th>admission_type_id</th>\n",
              "      <th>discharge_disposition_id</th>\n",
              "      <th>admission_source_id</th>\n",
              "      <th>time_in_hospital</th>\n",
              "      <th>num_lab_procedures</th>\n",
              "      <th>num_procedures</th>\n",
              "      <th>num_medications</th>\n",
              "      <th>number_outpatient</th>\n",
              "      <th>number_emergency</th>\n",
              "      <th>number_inpatient</th>\n",
              "      <th>number_diagnoses</th>\n",
              "      <th>30readmit</th>\n",
              "    </tr>\n",
              "  </thead>\n",
              "  <tbody>\n",
              "    <tr>\n",
              "      <th>count</th>\n",
              "      <td>1.001140e+05</td>\n",
              "      <td>1.001140e+05</td>\n",
              "      <td>100114.000000</td>\n",
              "      <td>100114.000000</td>\n",
              "      <td>100114.000000</td>\n",
              "      <td>100114.000000</td>\n",
              "      <td>100114.000000</td>\n",
              "      <td>100114.000000</td>\n",
              "      <td>100114.000000</td>\n",
              "      <td>100114.000000</td>\n",
              "      <td>100114.000000</td>\n",
              "      <td>100114.000000</td>\n",
              "      <td>100114.000000</td>\n",
              "      <td>100114.000000</td>\n",
              "    </tr>\n",
              "    <tr>\n",
              "      <th>mean</th>\n",
              "      <td>1.653032e+08</td>\n",
              "      <td>5.430611e+07</td>\n",
              "      <td>2.028597</td>\n",
              "      <td>3.594622</td>\n",
              "      <td>5.738388</td>\n",
              "      <td>4.389646</td>\n",
              "      <td>42.943305</td>\n",
              "      <td>1.330723</td>\n",
              "      <td>15.981821</td>\n",
              "      <td>0.369429</td>\n",
              "      <td>0.198334</td>\n",
              "      <td>0.632829</td>\n",
              "      <td>7.409164</td>\n",
              "      <td>0.468486</td>\n",
              "    </tr>\n",
              "    <tr>\n",
              "      <th>std</th>\n",
              "      <td>1.027194e+08</td>\n",
              "      <td>3.871493e+07</td>\n",
              "      <td>1.446225</td>\n",
              "      <td>5.237490</td>\n",
              "      <td>4.066412</td>\n",
              "      <td>2.974531</td>\n",
              "      <td>19.620940</td>\n",
              "      <td>1.700286</td>\n",
              "      <td>8.092511</td>\n",
              "      <td>1.264006</td>\n",
              "      <td>0.935537</td>\n",
              "      <td>1.261833</td>\n",
              "      <td>1.938288</td>\n",
              "      <td>0.499008</td>\n",
              "    </tr>\n",
              "    <tr>\n",
              "      <th>min</th>\n",
              "      <td>1.252200e+04</td>\n",
              "      <td>1.350000e+02</td>\n",
              "      <td>1.000000</td>\n",
              "      <td>1.000000</td>\n",
              "      <td>1.000000</td>\n",
              "      <td>1.000000</td>\n",
              "      <td>1.000000</td>\n",
              "      <td>0.000000</td>\n",
              "      <td>1.000000</td>\n",
              "      <td>0.000000</td>\n",
              "      <td>0.000000</td>\n",
              "      <td>0.000000</td>\n",
              "      <td>1.000000</td>\n",
              "      <td>0.000000</td>\n",
              "    </tr>\n",
              "    <tr>\n",
              "      <th>25%</th>\n",
              "      <td>8.493462e+07</td>\n",
              "      <td>2.339867e+07</td>\n",
              "      <td>1.000000</td>\n",
              "      <td>1.000000</td>\n",
              "      <td>1.000000</td>\n",
              "      <td>2.000000</td>\n",
              "      <td>31.000000</td>\n",
              "      <td>0.000000</td>\n",
              "      <td>10.000000</td>\n",
              "      <td>0.000000</td>\n",
              "      <td>0.000000</td>\n",
              "      <td>0.000000</td>\n",
              "      <td>6.000000</td>\n",
              "      <td>0.000000</td>\n",
              "    </tr>\n",
              "    <tr>\n",
              "      <th>50%</th>\n",
              "      <td>1.524511e+08</td>\n",
              "      <td>4.548078e+07</td>\n",
              "      <td>1.000000</td>\n",
              "      <td>1.000000</td>\n",
              "      <td>7.000000</td>\n",
              "      <td>4.000000</td>\n",
              "      <td>44.000000</td>\n",
              "      <td>1.000000</td>\n",
              "      <td>15.000000</td>\n",
              "      <td>0.000000</td>\n",
              "      <td>0.000000</td>\n",
              "      <td>0.000000</td>\n",
              "      <td>8.000000</td>\n",
              "      <td>0.000000</td>\n",
              "    </tr>\n",
              "    <tr>\n",
              "      <th>75%</th>\n",
              "      <td>2.305332e+08</td>\n",
              "      <td>8.755836e+07</td>\n",
              "      <td>3.000000</td>\n",
              "      <td>3.000000</td>\n",
              "      <td>7.000000</td>\n",
              "      <td>6.000000</td>\n",
              "      <td>57.000000</td>\n",
              "      <td>2.000000</td>\n",
              "      <td>20.000000</td>\n",
              "      <td>0.000000</td>\n",
              "      <td>0.000000</td>\n",
              "      <td>1.000000</td>\n",
              "      <td>9.000000</td>\n",
              "      <td>1.000000</td>\n",
              "    </tr>\n",
              "    <tr>\n",
              "      <th>max</th>\n",
              "      <td>4.438672e+08</td>\n",
              "      <td>1.895026e+08</td>\n",
              "      <td>8.000000</td>\n",
              "      <td>28.000000</td>\n",
              "      <td>25.000000</td>\n",
              "      <td>14.000000</td>\n",
              "      <td>132.000000</td>\n",
              "      <td>6.000000</td>\n",
              "      <td>81.000000</td>\n",
              "      <td>42.000000</td>\n",
              "      <td>76.000000</td>\n",
              "      <td>21.000000</td>\n",
              "      <td>16.000000</td>\n",
              "      <td>1.000000</td>\n",
              "    </tr>\n",
              "  </tbody>\n",
              "</table>\n",
              "</div>\n",
              "      <button class=\"colab-df-convert\" onclick=\"convertToInteractive('df-941ce681-45c1-4b9b-90c6-3fe9f56157c0')\"\n",
              "              title=\"Convert this dataframe to an interactive table.\"\n",
              "              style=\"display:none;\">\n",
              "        \n",
              "  <svg xmlns=\"http://www.w3.org/2000/svg\" height=\"24px\"viewBox=\"0 0 24 24\"\n",
              "       width=\"24px\">\n",
              "    <path d=\"M0 0h24v24H0V0z\" fill=\"none\"/>\n",
              "    <path d=\"M18.56 5.44l.94 2.06.94-2.06 2.06-.94-2.06-.94-.94-2.06-.94 2.06-2.06.94zm-11 1L8.5 8.5l.94-2.06 2.06-.94-2.06-.94L8.5 2.5l-.94 2.06-2.06.94zm10 10l.94 2.06.94-2.06 2.06-.94-2.06-.94-.94-2.06-.94 2.06-2.06.94z\"/><path d=\"M17.41 7.96l-1.37-1.37c-.4-.4-.92-.59-1.43-.59-.52 0-1.04.2-1.43.59L10.3 9.45l-7.72 7.72c-.78.78-.78 2.05 0 2.83L4 21.41c.39.39.9.59 1.41.59.51 0 1.02-.2 1.41-.59l7.78-7.78 2.81-2.81c.8-.78.8-2.07 0-2.86zM5.41 20L4 18.59l7.72-7.72 1.47 1.35L5.41 20z\"/>\n",
              "  </svg>\n",
              "      </button>\n",
              "      \n",
              "  <style>\n",
              "    .colab-df-container {\n",
              "      display:flex;\n",
              "      flex-wrap:wrap;\n",
              "      gap: 12px;\n",
              "    }\n",
              "\n",
              "    .colab-df-convert {\n",
              "      background-color: #E8F0FE;\n",
              "      border: none;\n",
              "      border-radius: 50%;\n",
              "      cursor: pointer;\n",
              "      display: none;\n",
              "      fill: #1967D2;\n",
              "      height: 32px;\n",
              "      padding: 0 0 0 0;\n",
              "      width: 32px;\n",
              "    }\n",
              "\n",
              "    .colab-df-convert:hover {\n",
              "      background-color: #E2EBFA;\n",
              "      box-shadow: 0px 1px 2px rgba(60, 64, 67, 0.3), 0px 1px 3px 1px rgba(60, 64, 67, 0.15);\n",
              "      fill: #174EA6;\n",
              "    }\n",
              "\n",
              "    [theme=dark] .colab-df-convert {\n",
              "      background-color: #3B4455;\n",
              "      fill: #D2E3FC;\n",
              "    }\n",
              "\n",
              "    [theme=dark] .colab-df-convert:hover {\n",
              "      background-color: #434B5C;\n",
              "      box-shadow: 0px 1px 3px 1px rgba(0, 0, 0, 0.15);\n",
              "      filter: drop-shadow(0px 1px 2px rgba(0, 0, 0, 0.3));\n",
              "      fill: #FFFFFF;\n",
              "    }\n",
              "  </style>\n",
              "\n",
              "      <script>\n",
              "        const buttonEl =\n",
              "          document.querySelector('#df-941ce681-45c1-4b9b-90c6-3fe9f56157c0 button.colab-df-convert');\n",
              "        buttonEl.style.display =\n",
              "          google.colab.kernel.accessAllowed ? 'block' : 'none';\n",
              "\n",
              "        async function convertToInteractive(key) {\n",
              "          const element = document.querySelector('#df-941ce681-45c1-4b9b-90c6-3fe9f56157c0');\n",
              "          const dataTable =\n",
              "            await google.colab.kernel.invokeFunction('convertToInteractive',\n",
              "                                                     [key], {});\n",
              "          if (!dataTable) return;\n",
              "\n",
              "          const docLinkHtml = 'Like what you see? Visit the ' +\n",
              "            '<a target=\"_blank\" href=https://colab.research.google.com/notebooks/data_table.ipynb>data table notebook</a>'\n",
              "            + ' to learn more about interactive tables.';\n",
              "          element.innerHTML = '';\n",
              "          dataTable['output_type'] = 'display_data';\n",
              "          await google.colab.output.renderOutput(dataTable, element);\n",
              "          const docLink = document.createElement('div');\n",
              "          docLink.innerHTML = docLinkHtml;\n",
              "          element.appendChild(docLink);\n",
              "        }\n",
              "      </script>\n",
              "    </div>\n",
              "  </div>\n",
              "  "
            ]
          },
          "metadata": {},
          "execution_count": 41
        }
      ],
      "source": [
        "data.describe() ## from this we get could get a couple of statistics \n",
        "\n"
      ]
    },
    {
      "cell_type": "code",
      "source": [],
      "metadata": {
        "colab": {
          "base_uri": "https://localhost:8080/"
        },
        "id": "gpzETM5UqaEW",
        "outputId": "828aeab8-1428-4879-b8c3-ad542e9de8d0"
      },
      "execution_count": 40,
      "outputs": [
        {
          "output_type": "execute_result",
          "data": {
            "text/plain": [
              "count     100114\n",
              "unique         4\n",
              "top         None\n",
              "freq       83238\n",
              "Name: A1Cresult, dtype: object"
            ]
          },
          "metadata": {},
          "execution_count": 40
        }
      ]
    },
    {
      "cell_type": "code",
      "source": [
        "data.count() ## originally there were 101,766 patients in the data set "
      ],
      "metadata": {
        "colab": {
          "base_uri": "https://localhost:8080/"
        },
        "id": "3v5V0QMTr2P5",
        "outputId": "f0223938-3310-4909-809f-0b07e99ae3cd"
      },
      "execution_count": 8,
      "outputs": [
        {
          "output_type": "execute_result",
          "data": {
            "text/plain": [
              "encounter_id                101766\n",
              "patient_nbr                 101766\n",
              "race                        101766\n",
              "gender                      101766\n",
              "age                         101766\n",
              "weight                      101766\n",
              "admission_type_id           101766\n",
              "discharge_disposition_id    101766\n",
              "admission_source_id         101766\n",
              "time_in_hospital            101766\n",
              "payer_code                  101766\n",
              "medical_specialty           101766\n",
              "num_lab_procedures          101766\n",
              "num_procedures              101766\n",
              "num_medications             101766\n",
              "number_outpatient           101766\n",
              "number_emergency            101766\n",
              "number_inpatient            101766\n",
              "diag_1                      101766\n",
              "diag_2                      101766\n",
              "diag_3                      101766\n",
              "number_diagnoses            101766\n",
              "max_glu_serum               101766\n",
              "A1Cresult                   101766\n",
              "metformin                   101766\n",
              "repaglinide                 101766\n",
              "nateglinide                 101766\n",
              "chlorpropamide              101766\n",
              "glimepiride                 101766\n",
              "acetohexamide               101766\n",
              "glipizide                   101766\n",
              "glyburide                   101766\n",
              "tolbutamide                 101766\n",
              "pioglitazone                101766\n",
              "rosiglitazone               101766\n",
              "acarbose                    101766\n",
              "miglitol                    101766\n",
              "troglitazone                101766\n",
              "tolazamide                  101766\n",
              "examide                     101766\n",
              "citoglipton                 101766\n",
              "insulin                     101766\n",
              "glyburide-metformin         101766\n",
              "glipizide-metformin         101766\n",
              "glimepiride-pioglitazone    101766\n",
              "metformin-rosiglitazone     101766\n",
              "metformin-pioglitazone      101766\n",
              "change                      101766\n",
              "diabetesMed                 101766\n",
              "readmitted                  101766\n",
              "dtype: int64"
            ]
          },
          "metadata": {},
          "execution_count": 8
        }
      ]
    },
    {
      "cell_type": "code",
      "source": [
        "data=data.replace('?','Unknown') ## in the 'race' column I noticed that there were ? values. I decided to replace all the ? with the word \"unknown\""
      ],
      "metadata": {
        "id": "5tWVpm26JTMs"
      },
      "execution_count": 9,
      "outputs": []
    },
    {
      "cell_type": "markdown",
      "metadata": {
        "id": "PHKURkfn2dap"
      },
      "source": [
        "## Data Cleaning "
      ]
    },
    {
      "cell_type": "markdown",
      "metadata": {
        "id": "hS0zLYJ42kIP"
      },
      "source": [
        "Meaning of the discharged codes from the 'discharge_disposition_id' column:\n",
        "*  11=expired\n",
        "*  19= expired at home\n",
        "*  20= expired in a medical facility\n",
        "*  21= expired, placed unknown\n",
        "---\n",
        "I will be removing from this data set all the patients that died (expired)."
      ]
    },
    {
      "cell_type": "code",
      "execution_count": 10,
      "metadata": {
        "id": "W3dQEQrI2gsU"
      },
      "outputs": [],
      "source": [
        "data = data[((data.discharge_disposition_id != 11) & \n",
        "                                          (data.discharge_disposition_id != 19) & \n",
        "                                           (data.discharge_disposition_id != 20) & \n",
        "                                          (data.discharge_disposition_id != 21))]  "
      ]
    },
    {
      "cell_type": "code",
      "execution_count": 11,
      "metadata": {
        "colab": {
          "base_uri": "https://localhost:8080/"
        },
        "id": "HO4Pf9hc3nc_",
        "outputId": "e5504830-5f46-4741-a589-353a8701c0ef"
      },
      "outputs": [
        {
          "output_type": "execute_result",
          "data": {
            "text/plain": [
              "discharge_disposition_id\n",
              "1     60234\n",
              "2      2128\n",
              "3     13954\n",
              "4       815\n",
              "5      1184\n",
              "6     12902\n",
              "7       623\n",
              "8       108\n",
              "9        21\n",
              "10        6\n",
              "12        3\n",
              "13      399\n",
              "14      372\n",
              "15       63\n",
              "16       11\n",
              "17       14\n",
              "18     3691\n",
              "22     1993\n",
              "23      412\n",
              "24       48\n",
              "25      989\n",
              "27        5\n",
              "28      139\n",
              "Name: encounter_id, dtype: int64"
            ]
          },
          "metadata": {},
          "execution_count": 11
        }
      ],
      "source": [
        "data.groupby(['discharge_disposition_id'])['encounter_id'].count() ## veryfing that the codes were removed \n",
        "     "
      ]
    },
    {
      "cell_type": "code",
      "execution_count": 12,
      "metadata": {
        "id": "mSMl3Z_WI69N"
      },
      "outputs": [],
      "source": [
        "data['30readmit'] = np.where(data['readmitted'] == 'NO', 0, 1)\n",
        " ## The readmitted column has three values 'NO','<30','>30' so I creatd a new column named \"30readmit\" and turn it into binary answer Yes or NO. \n",
        " ## NO= 0 anything else whether it was readmitted in less than 30 days or more = 1"
      ]
    },
    {
      "cell_type": "code",
      "execution_count": 13,
      "metadata": {
        "id": "fETVqo0H3n-Y"
      },
      "outputs": [],
      "source": [
        "subset=data[['encounter_id','gender', 'age', 'time_in_hospital', 'race','A1Cresult','readmitted','discharge_disposition_id','30readmit']]\n",
        "## creating a subset of the columns that I will utilize for my analysis "
      ]
    },
    {
      "cell_type": "code",
      "source": [
        "subset.count() ## The data set now has 100,114 patients after removing those that expired "
      ],
      "metadata": {
        "colab": {
          "base_uri": "https://localhost:8080/"
        },
        "id": "GatdujL5sdFK",
        "outputId": "0c36c5fc-eeae-4c0c-b2fb-911d789332c8"
      },
      "execution_count": 14,
      "outputs": [
        {
          "output_type": "execute_result",
          "data": {
            "text/plain": [
              "encounter_id                100114\n",
              "gender                      100114\n",
              "age                         100114\n",
              "time_in_hospital            100114\n",
              "race                        100114\n",
              "A1Cresult                   100114\n",
              "readmitted                  100114\n",
              "discharge_disposition_id    100114\n",
              "30readmit                   100114\n",
              "dtype: int64"
            ]
          },
          "metadata": {},
          "execution_count": 14
        }
      ]
    },
    {
      "cell_type": "markdown",
      "metadata": {
        "id": "DgexFZT04yfL"
      },
      "source": [
        "## AC1 results and its relation with hospital readmission rates"
      ]
    },
    {
      "cell_type": "markdown",
      "metadata": {
        "id": "nVVcYP7-44up"
      },
      "source": [
        "A normal A1C level is below 5.7%, a level of 5.7% to 6.4% indicates prediabetes and a level of 6.5% or more indicates diabetes. The higher your A1C, the greater your risk is for developing type 2 diabetes. I was interested in seeing the readmission rates of those patients which A1C levels were high (>7% and >8%)."
      ]
    },
    {
      "cell_type": "code",
      "execution_count": 44,
      "metadata": {
        "colab": {
          "base_uri": "https://localhost:8080/"
        },
        "id": "XEr1Ygju40jo",
        "outputId": "287af3f8-165b-4176-c8c9-351eccf0631e"
      },
      "outputs": [
        {
          "output_type": "execute_result",
          "data": {
            "text/plain": [
              "None    83238\n",
              ">8       8151\n",
              "Norm     4941\n",
              ">7       3784\n",
              "Name: A1Cresult, dtype: int64"
            ]
          },
          "metadata": {},
          "execution_count": 44
        }
      ],
      "source": [
        "subset['A1Cresult'].value_counts() ## Out of the 100,114 patients, 16,876 patients had their AC1 levels tested \n"
      ]
    },
    {
      "cell_type": "code",
      "execution_count": 16,
      "metadata": {
        "id": "uSNiBVrs54wa"
      },
      "outputs": [],
      "source": [
        "A1C_patients = subset.loc[(subset['A1Cresult'] == '>8') | (subset['A1Cresult'] == '>7')| (subset['A1Cresult'] == 'Norm') ]\n",
        "## from the subset Data I filtered only the patients whose A1C result were >7, >8 or Normal"
      ]
    },
    {
      "cell_type": "code",
      "execution_count": 17,
      "metadata": {
        "colab": {
          "base_uri": "https://localhost:8080/"
        },
        "id": "2bB2ECeh7gEP",
        "outputId": "c46f89eb-62e8-4f97-deb6-489a0a710472"
      },
      "outputs": [
        {
          "output_type": "execute_result",
          "data": {
            "text/plain": [
              "16876"
            ]
          },
          "metadata": {},
          "execution_count": 17
        }
      ],
      "source": [
        "A1C_patients['encounter_id'].count()"
      ]
    },
    {
      "cell_type": "code",
      "execution_count": 18,
      "metadata": {
        "colab": {
          "base_uri": "https://localhost:8080/"
        },
        "id": "jANhv6vA6BKy",
        "outputId": "deeeca69-afd8-4d4e-e7e8-ecf76bf41c4a"
      },
      "outputs": [
        {
          "output_type": "execute_result",
          "data": {
            "text/plain": [
              ">8      8151\n",
              "Norm    4941\n",
              ">7      3784\n",
              "Name: A1Cresult, dtype: int64"
            ]
          },
          "metadata": {},
          "execution_count": 18
        }
      ],
      "source": [
        "A1C_patients['A1Cresult'].value_counts()"
      ]
    },
    {
      "cell_type": "code",
      "execution_count": 19,
      "metadata": {
        "colab": {
          "base_uri": "https://localhost:8080/"
        },
        "id": "2tVKlAbX9Ovf",
        "outputId": "2b32270c-e74c-4a68-b498-0a71d1f7484e"
      },
      "outputs": [
        {
          "output_type": "execute_result",
          "data": {
            "text/plain": [
              "NO     9400\n",
              ">30    5800\n",
              "<30    1676\n",
              "Name: readmitted, dtype: int64"
            ]
          },
          "metadata": {},
          "execution_count": 19
        }
      ],
      "source": [
        "A1C_patients['readmitted'].value_counts()"
      ]
    },
    {
      "cell_type": "code",
      "execution_count": 20,
      "metadata": {
        "colab": {
          "base_uri": "https://localhost:8080/"
        },
        "id": "OPOcH4Jo84_J",
        "outputId": "d7a5ac0f-3228-474e-f516-3fac7337b8ae"
      },
      "outputs": [
        {
          "output_type": "execute_result",
          "data": {
            "text/plain": [
              "0    9400\n",
              "1    7476\n",
              "Name: 30readmit, dtype: int64"
            ]
          },
          "metadata": {},
          "execution_count": 20
        }
      ],
      "source": [
        "A1C_patients['30readmit'].value_counts()"
      ]
    },
    {
      "cell_type": "code",
      "execution_count": 21,
      "metadata": {
        "colab": {
          "base_uri": "https://localhost:8080/",
          "height": 431
        },
        "id": "GeZbxY259bb6",
        "outputId": "d5b0f6d5-a49b-4705-cfb9-b320e2656c1d"
      },
      "outputs": [
        {
          "output_type": "display_data",
          "data": {
            "text/plain": [
              "<Figure size 504x468 with 1 Axes>"
            ],
            "image/png": "[encoded data removed]"
          },
          "metadata": {
            "needs_background": "light"
          }
        }
      ],
      "source": [
        "plot1 = sns.countplot(x = 'A1Cresult', hue = '30readmit', data = A1C_patients) \n",
        "\n",
        "sns.despine()\n",
        "plot1.figure.set_size_inches(7, 6.5)\n",
        "plot1.legend(title = 'Readmitted patients', labels = ('No', 'Yes'))\n",
        "plot1.axes.set_title('Readmissions by A1C Results')\n",
        "plt.show()\n",
        "## We can see that patients with an A1C higher than 8 had more readmissions compare to those with a normal or even those with an AC1 higher than 7."
      ]
    },
    {
      "cell_type": "markdown",
      "metadata": {
        "id": "5qSR_RNb-5FZ"
      },
      "source": [
        "\n",
        "## Analyzed the role that gender played in the readmission rate"
      ]
    },
    {
      "cell_type": "code",
      "execution_count": 22,
      "metadata": {
        "id": "8qBTjxbc_LaP",
        "colab": {
          "base_uri": "https://localhost:8080/",
          "height": 419
        },
        "outputId": "28ba93fe-c62c-4c0f-9454-1f5898eb9a42"
      },
      "outputs": [
        {
          "output_type": "execute_result",
          "data": {
            "text/plain": [
              "        encounter_id  gender      age  time_in_hospital             race  \\\n",
              "0            2278392  Female   [0-10)                 1        Caucasian   \n",
              "1             149190  Female  [10-20)                 3        Caucasian   \n",
              "2              64410  Female  [20-30)                 2  AfricanAmerican   \n",
              "3             500364    Male  [30-40)                 2        Caucasian   \n",
              "4              16680    Male  [40-50)                 1        Caucasian   \n",
              "...              ...     ...      ...               ...              ...   \n",
              "101761     443847548    Male  [70-80)                 3  AfricanAmerican   \n",
              "101762     443847782  Female  [80-90)                 5  AfricanAmerican   \n",
              "101763     443854148    Male  [70-80)                 1        Caucasian   \n",
              "101764     443857166  Female  [80-90)                10        Caucasian   \n",
              "101765     443867222    Male  [70-80)                 6        Caucasian   \n",
              "\n",
              "       A1Cresult readmitted  discharge_disposition_id  30readmit  \n",
              "0           None         NO                        25          0  \n",
              "1           None        >30                         1          1  \n",
              "2           None         NO                         1          0  \n",
              "3           None         NO                         1          0  \n",
              "4           None         NO                         1          0  \n",
              "...          ...        ...                       ...        ...  \n",
              "101761        >8        >30                         3          1  \n",
              "101762      None         NO                         4          0  \n",
              "101763      None         NO                         1          0  \n",
              "101764      None         NO                         3          0  \n",
              "101765      None         NO                         1          0  \n",
              "\n",
              "[100114 rows x 9 columns]"
            ],
            "text/html": [
              "\n",
              "  <div id=\"df-dfa9e9fb-26a3-4090-bd5a-3b5091e01b1d\">\n",
              "    <div class=\"colab-df-container\">\n",
              "      <div>\n",
              "<style scoped>\n",
              "    .dataframe tbody tr th:only-of-type {\n",
              "        vertical-align: middle;\n",
              "    }\n",
              "\n",
              "    .dataframe tbody tr th {\n",
              "        vertical-align: top;\n",
              "    }\n",
              "\n",
              "    .dataframe thead th {\n",
              "        text-align: right;\n",
              "    }\n",
              "</style>\n",
              "<table border=\"1\" class=\"dataframe\">\n",
              "  <thead>\n",
              "    <tr style=\"text-align: right;\">\n",
              "      <th></th>\n",
              "      <th>encounter_id</th>\n",
              "      <th>gender</th>\n",
              "      <th>age</th>\n",
              "      <th>time_in_hospital</th>\n",
              "      <th>race</th>\n",
              "      <th>A1Cresult</th>\n",
              "      <th>readmitted</th>\n",
              "      <th>discharge_disposition_id</th>\n",
              "      <th>30readmit</th>\n",
              "    </tr>\n",
              "  </thead>\n",
              "  <tbody>\n",
              "    <tr>\n",
              "      <th>0</th>\n",
              "      <td>2278392</td>\n",
              "      <td>Female</td>\n",
              "      <td>[0-10)</td>\n",
              "      <td>1</td>\n",
              "      <td>Caucasian</td>\n",
              "      <td>None</td>\n",
              "      <td>NO</td>\n",
              "      <td>25</td>\n",
              "      <td>0</td>\n",
              "    </tr>\n",
              "    <tr>\n",
              "      <th>1</th>\n",
              "      <td>149190</td>\n",
              "      <td>Female</td>\n",
              "      <td>[10-20)</td>\n",
              "      <td>3</td>\n",
              "      <td>Caucasian</td>\n",
              "      <td>None</td>\n",
              "      <td>&gt;30</td>\n",
              "      <td>1</td>\n",
              "      <td>1</td>\n",
              "    </tr>\n",
              "    <tr>\n",
              "      <th>2</th>\n",
              "      <td>64410</td>\n",
              "      <td>Female</td>\n",
              "      <td>[20-30)</td>\n",
              "      <td>2</td>\n",
              "      <td>AfricanAmerican</td>\n",
              "      <td>None</td>\n",
              "      <td>NO</td>\n",
              "      <td>1</td>\n",
              "      <td>0</td>\n",
              "    </tr>\n",
              "    <tr>\n",
              "      <th>3</th>\n",
              "      <td>500364</td>\n",
              "      <td>Male</td>\n",
              "      <td>[30-40)</td>\n",
              "      <td>2</td>\n",
              "      <td>Caucasian</td>\n",
              "      <td>None</td>\n",
              "      <td>NO</td>\n",
              "      <td>1</td>\n",
              "      <td>0</td>\n",
              "    </tr>\n",
              "    <tr>\n",
              "      <th>4</th>\n",
              "      <td>16680</td>\n",
              "      <td>Male</td>\n",
              "      <td>[40-50)</td>\n",
              "      <td>1</td>\n",
              "      <td>Caucasian</td>\n",
              "      <td>None</td>\n",
              "      <td>NO</td>\n",
              "      <td>1</td>\n",
              "      <td>0</td>\n",
              "    </tr>\n",
              "    <tr>\n",
              "      <th>...</th>\n",
              "      <td>...</td>\n",
              "      <td>...</td>\n",
              "      <td>...</td>\n",
              "      <td>...</td>\n",
              "      <td>...</td>\n",
              "      <td>...</td>\n",
              "      <td>...</td>\n",
              "      <td>...</td>\n",
              "      <td>...</td>\n",
              "    </tr>\n",
              "    <tr>\n",
              "      <th>101761</th>\n",
              "      <td>443847548</td>\n",
              "      <td>Male</td>\n",
              "      <td>[70-80)</td>\n",
              "      <td>3</td>\n",
              "      <td>AfricanAmerican</td>\n",
              "      <td>&gt;8</td>\n",
              "      <td>&gt;30</td>\n",
              "      <td>3</td>\n",
              "      <td>1</td>\n",
              "    </tr>\n",
              "    <tr>\n",
              "      <th>101762</th>\n",
              "      <td>443847782</td>\n",
              "      <td>Female</td>\n",
              "      <td>[80-90)</td>\n",
              "      <td>5</td>\n",
              "      <td>AfricanAmerican</td>\n",
              "      <td>None</td>\n",
              "      <td>NO</td>\n",
              "      <td>4</td>\n",
              "      <td>0</td>\n",
              "    </tr>\n",
              "    <tr>\n",
              "      <th>101763</th>\n",
              "      <td>443854148</td>\n",
              "      <td>Male</td>\n",
              "      <td>[70-80)</td>\n",
              "      <td>1</td>\n",
              "      <td>Caucasian</td>\n",
              "      <td>None</td>\n",
              "      <td>NO</td>\n",
              "      <td>1</td>\n",
              "      <td>0</td>\n",
              "    </tr>\n",
              "    <tr>\n",
              "      <th>101764</th>\n",
              "      <td>443857166</td>\n",
              "      <td>Female</td>\n",
              "      <td>[80-90)</td>\n",
              "      <td>10</td>\n",
              "      <td>Caucasian</td>\n",
              "      <td>None</td>\n",
              "      <td>NO</td>\n",
              "      <td>3</td>\n",
              "      <td>0</td>\n",
              "    </tr>\n",
              "    <tr>\n",
              "      <th>101765</th>\n",
              "      <td>443867222</td>\n",
              "      <td>Male</td>\n",
              "      <td>[70-80)</td>\n",
              "      <td>6</td>\n",
              "      <td>Caucasian</td>\n",
              "      <td>None</td>\n",
              "      <td>NO</td>\n",
              "      <td>1</td>\n",
              "      <td>0</td>\n",
              "    </tr>\n",
              "  </tbody>\n",
              "</table>\n",
              "<p>100114 rows × 9 columns</p>\n",
              "</div>\n",
              "      <button class=\"colab-df-convert\" onclick=\"convertToInteractive('df-dfa9e9fb-26a3-4090-bd5a-3b5091e01b1d')\"\n",
              "              title=\"Convert this dataframe to an interactive table.\"\n",
              "              style=\"display:none;\">\n",
              "        \n",
              "  <svg xmlns=\"http://www.w3.org/2000/svg\" height=\"24px\"viewBox=\"0 0 24 24\"\n",
              "       width=\"24px\">\n",
              "    <path d=\"M0 0h24v24H0V0z\" fill=\"none\"/>\n",
              "    <path d=\"M18.56 5.44l.94 2.06.94-2.06 2.06-.94-2.06-.94-.94-2.06-.94 2.06-2.06.94zm-11 1L8.5 8.5l.94-2.06 2.06-.94-2.06-.94L8.5 2.5l-.94 2.06-2.06.94zm10 10l.94 2.06.94-2.06 2.06-.94-2.06-.94-.94-2.06-.94 2.06-2.06.94z\"/><path d=\"M17.41 7.96l-1.37-1.37c-.4-.4-.92-.59-1.43-.59-.52 0-1.04.2-1.43.59L10.3 9.45l-7.72 7.72c-.78.78-.78 2.05 0 2.83L4 21.41c.39.39.9.59 1.41.59.51 0 1.02-.2 1.41-.59l7.78-7.78 2.81-2.81c.8-.78.8-2.07 0-2.86zM5.41 20L4 18.59l7.72-7.72 1.47 1.35L5.41 20z\"/>\n",
              "  </svg>\n",
              "      </button>\n",
              "      \n",
              "  <style>\n",
              "    .colab-df-container {\n",
              "      display:flex;\n",
              "      flex-wrap:wrap;\n",
              "      gap: 12px;\n",
              "    }\n",
              "\n",
              "    .colab-df-convert {\n",
              "      background-color: #E8F0FE;\n",
              "      border: none;\n",
              "      border-radius: 50%;\n",
              "      cursor: pointer;\n",
              "      display: none;\n",
              "      fill: #1967D2;\n",
              "      height: 32px;\n",
              "      padding: 0 0 0 0;\n",
              "      width: 32px;\n",
              "    }\n",
              "\n",
              "    .colab-df-convert:hover {\n",
              "      background-color: #E2EBFA;\n",
              "      box-shadow: 0px 1px 2px rgba(60, 64, 67, 0.3), 0px 1px 3px 1px rgba(60, 64, 67, 0.15);\n",
              "      fill: #174EA6;\n",
              "    }\n",
              "\n",
              "    [theme=dark] .colab-df-convert {\n",
              "      background-color: #3B4455;\n",
              "      fill: #D2E3FC;\n",
              "    }\n",
              "\n",
              "    [theme=dark] .colab-df-convert:hover {\n",
              "      background-color: #434B5C;\n",
              "      box-shadow: 0px 1px 3px 1px rgba(0, 0, 0, 0.15);\n",
              "      filter: drop-shadow(0px 1px 2px rgba(0, 0, 0, 0.3));\n",
              "      fill: #FFFFFF;\n",
              "    }\n",
              "  </style>\n",
              "\n",
              "      <script>\n",
              "        const buttonEl =\n",
              "          document.querySelector('#df-dfa9e9fb-26a3-4090-bd5a-3b5091e01b1d button.colab-df-convert');\n",
              "        buttonEl.style.display =\n",
              "          google.colab.kernel.accessAllowed ? 'block' : 'none';\n",
              "\n",
              "        async function convertToInteractive(key) {\n",
              "          const element = document.querySelector('#df-dfa9e9fb-26a3-4090-bd5a-3b5091e01b1d');\n",
              "          const dataTable =\n",
              "            await google.colab.kernel.invokeFunction('convertToInteractive',\n",
              "                                                     [key], {});\n",
              "          if (!dataTable) return;\n",
              "\n",
              "          const docLinkHtml = 'Like what you see? Visit the ' +\n",
              "            '<a target=\"_blank\" href=https://colab.research.google.com/notebooks/data_table.ipynb>data table notebook</a>'\n",
              "            + ' to learn more about interactive tables.';\n",
              "          element.innerHTML = '';\n",
              "          dataTable['output_type'] = 'display_data';\n",
              "          await google.colab.output.renderOutput(dataTable, element);\n",
              "          const docLink = document.createElement('div');\n",
              "          docLink.innerHTML = docLinkHtml;\n",
              "          element.appendChild(docLink);\n",
              "        }\n",
              "      </script>\n",
              "    </div>\n",
              "  </div>\n",
              "  "
            ]
          },
          "metadata": {},
          "execution_count": 22
        }
      ],
      "source": [
        "subset ## For this analysis I decided to use the subset which includes all 100,114 patients except those that have expired"
      ]
    },
    {
      "cell_type": "code",
      "execution_count": 23,
      "metadata": {
        "colab": {
          "base_uri": "https://localhost:8080/"
        },
        "id": "1mTLhaDf_mAk",
        "outputId": "44203bde-8c5a-4f39-e6ec-93089a259de9"
      },
      "outputs": [
        {
          "output_type": "execute_result",
          "data": {
            "text/plain": [
              "Female             53861\n",
              "Male               46250\n",
              "Unknown/Invalid        3\n",
              "Name: gender, dtype: int64"
            ]
          },
          "metadata": {},
          "execution_count": 23
        }
      ],
      "source": [
        "subset['gender'].value_counts() ## there are more female patients than male "
      ]
    },
    {
      "cell_type": "code",
      "execution_count": 24,
      "metadata": {
        "id": "lWWDPCW0_2ni",
        "colab": {
          "base_uri": "https://localhost:8080/",
          "height": 296
        },
        "outputId": "48785025-b501-4dc5-c1a8-c7a0033f0052"
      },
      "outputs": [
        {
          "output_type": "execute_result",
          "data": {
            "text/plain": [
              "<matplotlib.axes._subplots.AxesSubplot at 0x7fa6b7037070>"
            ]
          },
          "metadata": {},
          "execution_count": 24
        },
        {
          "output_type": "display_data",
          "data": {
            "text/plain": [
              "<Figure size 432x288 with 1 Axes>"
            ],
            "image/png": "[encoded data removed]"
          },
          "metadata": {}
        }
      ],
      "source": [
        "sns.set_style('whitegrid')\n",
        "sns.countplot(x='gender', hue='30readmit', data=subset)\n",
        "## overall there were more female patients that were readmitted to the hospital than male patients\n",
        "## Gender does not seem to play a big factor in whether a patient will get readmitted "
      ]
    },
    {
      "cell_type": "markdown",
      "metadata": {
        "id": "xB9gLqYVB4go"
      },
      "source": [
        "## Analyzed the role age plays in readmission rates "
      ]
    },
    {
      "cell_type": "code",
      "execution_count": 25,
      "metadata": {
        "id": "wjTFXSnUEVgh",
        "colab": {
          "base_uri": "https://localhost:8080/"
        },
        "outputId": "8b82fc55-aa35-4b24-8236-e65016374ea9"
      },
      "outputs": [
        {
          "output_type": "execute_result",
          "data": {
            "text/plain": [
              "100114"
            ]
          },
          "metadata": {},
          "execution_count": 25
        }
      ],
      "source": [
        "subset['30readmit'].count()"
      ]
    },
    {
      "cell_type": "code",
      "execution_count": 26,
      "metadata": {
        "id": "--vuzdA2B4Ey",
        "colab": {
          "base_uri": "https://localhost:8080/",
          "height": 431
        },
        "outputId": "93027fcf-7092-4463-f302-a92e18517936"
      },
      "outputs": [
        {
          "output_type": "display_data",
          "data": {
            "text/plain": [
              "<Figure size 504x468 with 1 Axes>"
            ],
            "image/png": "[encoded data removed]"
          },
          "metadata": {}
        }
      ],
      "source": [
        "b = subset.age.unique()\n",
        "b.sort()\n",
        "b_sort = np.array(b).tolist()\n",
        "\n",
        "\n",
        "ageplt = sns.countplot(x = 'age', hue = '30readmit', data = subset, order = b_sort) \n",
        "\n",
        "sns.despine()\n",
        "ageplt.figure.set_size_inches(7, 6.5)\n",
        "ageplt.legend(title = 'Readmitted within 30 days or later', labels = ('No', 'Yes'))\n",
        "ageplt.axes.set_title('Readmissions of patients by Age')\n",
        "plt.show()\n",
        "## Out of the entire data of 100,114 the rate of readmission is about 46.85%. Almost half of the patients were readmitted whether it was within 30 days or longer. \n",
        "## We can conclude that age does play a factor in whether they will get readmitted. We can see that most of the readmissions were patients 60 years and older. \n",
        "## The age bracket who had the highest readmissions were 70-80 yrs old bracket."
      ]
    },
    {
      "cell_type": "code",
      "source": [
        "subset['30readmit'].value_counts() ## NO= 0 Yes= 1"
      ],
      "metadata": {
        "id": "sYrt8mgXBpTB",
        "colab": {
          "base_uri": "https://localhost:8080/"
        },
        "outputId": "b5b11ce0-c557-49a0-b7fb-6d775700aa1d"
      },
      "execution_count": 27,
      "outputs": [
        {
          "output_type": "execute_result",
          "data": {
            "text/plain": [
              "0    53212\n",
              "1    46902\n",
              "Name: 30readmit, dtype: int64"
            ]
          },
          "metadata": {},
          "execution_count": 27
        }
      ]
    },
    {
      "cell_type": "code",
      "execution_count": 38,
      "metadata": {
        "id": "TQ-VDQr4LvTA",
        "colab": {
          "base_uri": "https://localhost:8080/",
          "height": 281
        },
        "outputId": "69d3002e-0411-4ff3-d3bb-2333cab99c6a"
      },
      "outputs": [
        {
          "output_type": "execute_result",
          "data": {
            "text/plain": [
              "<matplotlib.axes._subplots.AxesSubplot at 0x7fa6b663c0a0>"
            ]
          },
          "metadata": {},
          "execution_count": 38
        },
        {
          "output_type": "display_data",
          "data": {
            "text/plain": [
              "<Figure size 432x288 with 1 Axes>"
            ],
            "image/png": "[encoded data removed]"
          },
          "metadata": {}
        }
      ],
      "source": [
        "subset.groupby(['30readmit']).sum().plot(kind='pie', y='encounter_id', autopct='%1.0f%%',\n",
        "                                colors = ['steelblue', 'orange'],\n",
        "                                title='Readmissions')## NO= 0 Yes= 1"
      ]
    },
    {
      "cell_type": "markdown",
      "source": [
        "##What role does Race plays in hospital readmissions?\n"
      ],
      "metadata": {
        "id": "12UJdHndDTlZ"
      }
    },
    {
      "cell_type": "code",
      "source": [
        "subset.head(20)\n"
      ],
      "metadata": {
        "id": "laaM5Wn3Hooi",
        "colab": {
          "base_uri": "https://localhost:8080/",
          "height": 669
        },
        "outputId": "0d1c55d7-bfb8-4de9-b6a1-9dd12d1e1bf6"
      },
      "execution_count": 29,
      "outputs": [
        {
          "output_type": "execute_result",
          "data": {
            "text/plain": [
              "    encounter_id  gender       age  time_in_hospital             race  \\\n",
              "0        2278392  Female    [0-10)                 1        Caucasian   \n",
              "1         149190  Female   [10-20)                 3        Caucasian   \n",
              "2          64410  Female   [20-30)                 2  AfricanAmerican   \n",
              "3         500364    Male   [30-40)                 2        Caucasian   \n",
              "4          16680    Male   [40-50)                 1        Caucasian   \n",
              "5          35754    Male   [50-60)                 3        Caucasian   \n",
              "6          55842    Male   [60-70)                 4        Caucasian   \n",
              "7          63768    Male   [70-80)                 5        Caucasian   \n",
              "8          12522  Female   [80-90)                13        Caucasian   \n",
              "9          15738  Female  [90-100)                12        Caucasian   \n",
              "10         28236  Female   [40-50)                 9  AfricanAmerican   \n",
              "11         36900    Male   [60-70)                 7  AfricanAmerican   \n",
              "12         40926  Female   [40-50)                 7        Caucasian   \n",
              "13         42570    Male   [80-90)                10        Caucasian   \n",
              "14         62256  Female   [60-70)                 1  AfricanAmerican   \n",
              "15         73578    Male   [60-70)                12  AfricanAmerican   \n",
              "16         77076    Male   [50-60)                 4  AfricanAmerican   \n",
              "17         84222  Female   [50-60)                 3        Caucasian   \n",
              "18         89682    Male   [70-80)                 5  AfricanAmerican   \n",
              "19        148530    Male   [70-80)                 6          Unknown   \n",
              "\n",
              "   A1Cresult readmitted  discharge_disposition_id  30readmit  \n",
              "0       None         NO                        25          0  \n",
              "1       None        >30                         1          1  \n",
              "2       None         NO                         1          0  \n",
              "3       None         NO                         1          0  \n",
              "4       None         NO                         1          0  \n",
              "5       None        >30                         1          1  \n",
              "6       None         NO                         1          0  \n",
              "7       None        >30                         1          1  \n",
              "8       None         NO                         1          0  \n",
              "9       None         NO                         3          0  \n",
              "10      None        >30                         1          1  \n",
              "11      None        <30                         1          1  \n",
              "12      None        <30                         3          1  \n",
              "13      None         NO                         6          0  \n",
              "14      None        >30                         1          1  \n",
              "15      None         NO                         3          0  \n",
              "16      None        <30                         1          1  \n",
              "17      None         NO                         1          0  \n",
              "18      None        >30                         1          1  \n",
              "19      None         NO                         6          0  "
            ],
            "text/html": [
              "\n",
              "  <div id=\"df-02a4c182-49ef-4cf0-bdd2-5976740d0133\">\n",
              "    <div class=\"colab-df-container\">\n",
              "      <div>\n",
              "<style scoped>\n",
              "    .dataframe tbody tr th:only-of-type {\n",
              "        vertical-align: middle;\n",
              "    }\n",
              "\n",
              "    .dataframe tbody tr th {\n",
              "        vertical-align: top;\n",
              "    }\n",
              "\n",
              "    .dataframe thead th {\n",
              "        text-align: right;\n",
              "    }\n",
              "</style>\n",
              "<table border=\"1\" class=\"dataframe\">\n",
              "  <thead>\n",
              "    <tr style=\"text-align: right;\">\n",
              "      <th></th>\n",
              "      <th>encounter_id</th>\n",
              "      <th>gender</th>\n",
              "      <th>age</th>\n",
              "      <th>time_in_hospital</th>\n",
              "      <th>race</th>\n",
              "      <th>A1Cresult</th>\n",
              "      <th>readmitted</th>\n",
              "      <th>discharge_disposition_id</th>\n",
              "      <th>30readmit</th>\n",
              "    </tr>\n",
              "  </thead>\n",
              "  <tbody>\n",
              "    <tr>\n",
              "      <th>0</th>\n",
              "      <td>2278392</td>\n",
              "      <td>Female</td>\n",
              "      <td>[0-10)</td>\n",
              "      <td>1</td>\n",
              "      <td>Caucasian</td>\n",
              "      <td>None</td>\n",
              "      <td>NO</td>\n",
              "      <td>25</td>\n",
              "      <td>0</td>\n",
              "    </tr>\n",
              "    <tr>\n",
              "      <th>1</th>\n",
              "      <td>149190</td>\n",
              "      <td>Female</td>\n",
              "      <td>[10-20)</td>\n",
              "      <td>3</td>\n",
              "      <td>Caucasian</td>\n",
              "      <td>None</td>\n",
              "      <td>&gt;30</td>\n",
              "      <td>1</td>\n",
              "      <td>1</td>\n",
              "    </tr>\n",
              "    <tr>\n",
              "      <th>2</th>\n",
              "      <td>64410</td>\n",
              "      <td>Female</td>\n",
              "      <td>[20-30)</td>\n",
              "      <td>2</td>\n",
              "      <td>AfricanAmerican</td>\n",
              "      <td>None</td>\n",
              "      <td>NO</td>\n",
              "      <td>1</td>\n",
              "      <td>0</td>\n",
              "    </tr>\n",
              "    <tr>\n",
              "      <th>3</th>\n",
              "      <td>500364</td>\n",
              "      <td>Male</td>\n",
              "      <td>[30-40)</td>\n",
              "      <td>2</td>\n",
              "      <td>Caucasian</td>\n",
              "      <td>None</td>\n",
              "      <td>NO</td>\n",
              "      <td>1</td>\n",
              "      <td>0</td>\n",
              "    </tr>\n",
              "    <tr>\n",
              "      <th>4</th>\n",
              "      <td>16680</td>\n",
              "      <td>Male</td>\n",
              "      <td>[40-50)</td>\n",
              "      <td>1</td>\n",
              "      <td>Caucasian</td>\n",
              "      <td>None</td>\n",
              "      <td>NO</td>\n",
              "      <td>1</td>\n",
              "      <td>0</td>\n",
              "    </tr>\n",
              "    <tr>\n",
              "      <th>5</th>\n",
              "      <td>35754</td>\n",
              "      <td>Male</td>\n",
              "      <td>[50-60)</td>\n",
              "      <td>3</td>\n",
              "      <td>Caucasian</td>\n",
              "      <td>None</td>\n",
              "      <td>&gt;30</td>\n",
              "      <td>1</td>\n",
              "      <td>1</td>\n",
              "    </tr>\n",
              "    <tr>\n",
              "      <th>6</th>\n",
              "      <td>55842</td>\n",
              "      <td>Male</td>\n",
              "      <td>[60-70)</td>\n",
              "      <td>4</td>\n",
              "      <td>Caucasian</td>\n",
              "      <td>None</td>\n",
              "      <td>NO</td>\n",
              "      <td>1</td>\n",
              "      <td>0</td>\n",
              "    </tr>\n",
              "    <tr>\n",
              "      <th>7</th>\n",
              "      <td>63768</td>\n",
              "      <td>Male</td>\n",
              "      <td>[70-80)</td>\n",
              "      <td>5</td>\n",
              "      <td>Caucasian</td>\n",
              "      <td>None</td>\n",
              "      <td>&gt;30</td>\n",
              "      <td>1</td>\n",
              "      <td>1</td>\n",
              "    </tr>\n",
              "    <tr>\n",
              "      <th>8</th>\n",
              "      <td>12522</td>\n",
              "      <td>Female</td>\n",
              "      <td>[80-90)</td>\n",
              "      <td>13</td>\n",
              "      <td>Caucasian</td>\n",
              "      <td>None</td>\n",
              "      <td>NO</td>\n",
              "      <td>1</td>\n",
              "      <td>0</td>\n",
              "    </tr>\n",
              "    <tr>\n",
              "      <th>9</th>\n",
              "      <td>15738</td>\n",
              "      <td>Female</td>\n",
              "      <td>[90-100)</td>\n",
              "      <td>12</td>\n",
              "      <td>Caucasian</td>\n",
              "      <td>None</td>\n",
              "      <td>NO</td>\n",
              "      <td>3</td>\n",
              "      <td>0</td>\n",
              "    </tr>\n",
              "    <tr>\n",
              "      <th>10</th>\n",
              "      <td>28236</td>\n",
              "      <td>Female</td>\n",
              "      <td>[40-50)</td>\n",
              "      <td>9</td>\n",
              "      <td>AfricanAmerican</td>\n",
              "      <td>None</td>\n",
              "      <td>&gt;30</td>\n",
              "      <td>1</td>\n",
              "      <td>1</td>\n",
              "    </tr>\n",
              "    <tr>\n",
              "      <th>11</th>\n",
              "      <td>36900</td>\n",
              "      <td>Male</td>\n",
              "      <td>[60-70)</td>\n",
              "      <td>7</td>\n",
              "      <td>AfricanAmerican</td>\n",
              "      <td>None</td>\n",
              "      <td>&lt;30</td>\n",
              "      <td>1</td>\n",
              "      <td>1</td>\n",
              "    </tr>\n",
              "    <tr>\n",
              "      <th>12</th>\n",
              "      <td>40926</td>\n",
              "      <td>Female</td>\n",
              "      <td>[40-50)</td>\n",
              "      <td>7</td>\n",
              "      <td>Caucasian</td>\n",
              "      <td>None</td>\n",
              "      <td>&lt;30</td>\n",
              "      <td>3</td>\n",
              "      <td>1</td>\n",
              "    </tr>\n",
              "    <tr>\n",
              "      <th>13</th>\n",
              "      <td>42570</td>\n",
              "      <td>Male</td>\n",
              "      <td>[80-90)</td>\n",
              "      <td>10</td>\n",
              "      <td>Caucasian</td>\n",
              "      <td>None</td>\n",
              "      <td>NO</td>\n",
              "      <td>6</td>\n",
              "      <td>0</td>\n",
              "    </tr>\n",
              "    <tr>\n",
              "      <th>14</th>\n",
              "      <td>62256</td>\n",
              "      <td>Female</td>\n",
              "      <td>[60-70)</td>\n",
              "      <td>1</td>\n",
              "      <td>AfricanAmerican</td>\n",
              "      <td>None</td>\n",
              "      <td>&gt;30</td>\n",
              "      <td>1</td>\n",
              "      <td>1</td>\n",
              "    </tr>\n",
              "    <tr>\n",
              "      <th>15</th>\n",
              "      <td>73578</td>\n",
              "      <td>Male</td>\n",
              "      <td>[60-70)</td>\n",
              "      <td>12</td>\n",
              "      <td>AfricanAmerican</td>\n",
              "      <td>None</td>\n",
              "      <td>NO</td>\n",
              "      <td>3</td>\n",
              "      <td>0</td>\n",
              "    </tr>\n",
              "    <tr>\n",
              "      <th>16</th>\n",
              "      <td>77076</td>\n",
              "      <td>Male</td>\n",
              "      <td>[50-60)</td>\n",
              "      <td>4</td>\n",
              "      <td>AfricanAmerican</td>\n",
              "      <td>None</td>\n",
              "      <td>&lt;30</td>\n",
              "      <td>1</td>\n",
              "      <td>1</td>\n",
              "    </tr>\n",
              "    <tr>\n",
              "      <th>17</th>\n",
              "      <td>84222</td>\n",
              "      <td>Female</td>\n",
              "      <td>[50-60)</td>\n",
              "      <td>3</td>\n",
              "      <td>Caucasian</td>\n",
              "      <td>None</td>\n",
              "      <td>NO</td>\n",
              "      <td>1</td>\n",
              "      <td>0</td>\n",
              "    </tr>\n",
              "    <tr>\n",
              "      <th>18</th>\n",
              "      <td>89682</td>\n",
              "      <td>Male</td>\n",
              "      <td>[70-80)</td>\n",
              "      <td>5</td>\n",
              "      <td>AfricanAmerican</td>\n",
              "      <td>None</td>\n",
              "      <td>&gt;30</td>\n",
              "      <td>1</td>\n",
              "      <td>1</td>\n",
              "    </tr>\n",
              "    <tr>\n",
              "      <th>19</th>\n",
              "      <td>148530</td>\n",
              "      <td>Male</td>\n",
              "      <td>[70-80)</td>\n",
              "      <td>6</td>\n",
              "      <td>Unknown</td>\n",
              "      <td>None</td>\n",
              "      <td>NO</td>\n",
              "      <td>6</td>\n",
              "      <td>0</td>\n",
              "    </tr>\n",
              "  </tbody>\n",
              "</table>\n",
              "</div>\n",
              "      <button class=\"colab-df-convert\" onclick=\"convertToInteractive('df-02a4c182-49ef-4cf0-bdd2-5976740d0133')\"\n",
              "              title=\"Convert this dataframe to an interactive table.\"\n",
              "              style=\"display:none;\">\n",
              "        \n",
              "  <svg xmlns=\"http://www.w3.org/2000/svg\" height=\"24px\"viewBox=\"0 0 24 24\"\n",
              "       width=\"24px\">\n",
              "    <path d=\"M0 0h24v24H0V0z\" fill=\"none\"/>\n",
              "    <path d=\"M18.56 5.44l.94 2.06.94-2.06 2.06-.94-2.06-.94-.94-2.06-.94 2.06-2.06.94zm-11 1L8.5 8.5l.94-2.06 2.06-.94-2.06-.94L8.5 2.5l-.94 2.06-2.06.94zm10 10l.94 2.06.94-2.06 2.06-.94-2.06-.94-.94-2.06-.94 2.06-2.06.94z\"/><path d=\"M17.41 7.96l-1.37-1.37c-.4-.4-.92-.59-1.43-.59-.52 0-1.04.2-1.43.59L10.3 9.45l-7.72 7.72c-.78.78-.78 2.05 0 2.83L4 21.41c.39.39.9.59 1.41.59.51 0 1.02-.2 1.41-.59l7.78-7.78 2.81-2.81c.8-.78.8-2.07 0-2.86zM5.41 20L4 18.59l7.72-7.72 1.47 1.35L5.41 20z\"/>\n",
              "  </svg>\n",
              "      </button>\n",
              "      \n",
              "  <style>\n",
              "    .colab-df-container {\n",
              "      display:flex;\n",
              "      flex-wrap:wrap;\n",
              "      gap: 12px;\n",
              "    }\n",
              "\n",
              "    .colab-df-convert {\n",
              "      background-color: #E8F0FE;\n",
              "      border: none;\n",
              "      border-radius: 50%;\n",
              "      cursor: pointer;\n",
              "      display: none;\n",
              "      fill: #1967D2;\n",
              "      height: 32px;\n",
              "      padding: 0 0 0 0;\n",
              "      width: 32px;\n",
              "    }\n",
              "\n",
              "    .colab-df-convert:hover {\n",
              "      background-color: #E2EBFA;\n",
              "      box-shadow: 0px 1px 2px rgba(60, 64, 67, 0.3), 0px 1px 3px 1px rgba(60, 64, 67, 0.15);\n",
              "      fill: #174EA6;\n",
              "    }\n",
              "\n",
              "    [theme=dark] .colab-df-convert {\n",
              "      background-color: #3B4455;\n",
              "      fill: #D2E3FC;\n",
              "    }\n",
              "\n",
              "    [theme=dark] .colab-df-convert:hover {\n",
              "      background-color: #434B5C;\n",
              "      box-shadow: 0px 1px 3px 1px rgba(0, 0, 0, 0.15);\n",
              "      filter: drop-shadow(0px 1px 2px rgba(0, 0, 0, 0.3));\n",
              "      fill: #FFFFFF;\n",
              "    }\n",
              "  </style>\n",
              "\n",
              "      <script>\n",
              "        const buttonEl =\n",
              "          document.querySelector('#df-02a4c182-49ef-4cf0-bdd2-5976740d0133 button.colab-df-convert');\n",
              "        buttonEl.style.display =\n",
              "          google.colab.kernel.accessAllowed ? 'block' : 'none';\n",
              "\n",
              "        async function convertToInteractive(key) {\n",
              "          const element = document.querySelector('#df-02a4c182-49ef-4cf0-bdd2-5976740d0133');\n",
              "          const dataTable =\n",
              "            await google.colab.kernel.invokeFunction('convertToInteractive',\n",
              "                                                     [key], {});\n",
              "          if (!dataTable) return;\n",
              "\n",
              "          const docLinkHtml = 'Like what you see? Visit the ' +\n",
              "            '<a target=\"_blank\" href=https://colab.research.google.com/notebooks/data_table.ipynb>data table notebook</a>'\n",
              "            + ' to learn more about interactive tables.';\n",
              "          element.innerHTML = '';\n",
              "          dataTable['output_type'] = 'display_data';\n",
              "          await google.colab.output.renderOutput(dataTable, element);\n",
              "          const docLink = document.createElement('div');\n",
              "          docLink.innerHTML = docLinkHtml;\n",
              "          element.appendChild(docLink);\n",
              "        }\n",
              "      </script>\n",
              "    </div>\n",
              "  </div>\n",
              "  "
            ]
          },
          "metadata": {},
          "execution_count": 29
        }
      ]
    },
    {
      "cell_type": "code",
      "source": [
        "subset.groupby(['race'])['encounter_id'].count().nlargest(6)## this gives us a count of the race of all patients "
      ],
      "metadata": {
        "id": "GkmvDu-AGb_0",
        "colab": {
          "base_uri": "https://localhost:8080/"
        },
        "outputId": "79dae4f1-f86b-4dc4-c3a4-c09b7b7c731d"
      },
      "execution_count": 50,
      "outputs": [
        {
          "output_type": "execute_result",
          "data": {
            "text/plain": [
              "race\n",
              "Caucasian          74845\n",
              "AfricanAmerican    18888\n",
              "Unknown             2239\n",
              "Hispanic            2024\n",
              "Other               1486\n",
              "Asian                632\n",
              "Name: encounter_id, dtype: int64"
            ]
          },
          "metadata": {},
          "execution_count": 50
        }
      ]
    },
    {
      "cell_type": "code",
      "source": [
        "subset.groupby(['race'])['encounter_id'].count().plot(kind='bar') \n",
        "## From this graph and the pie chart we can observe that most patients were Caucausian followed by African Americans. From the data alone we can conclude that more Caucasians were hospitalized due to diabetes than any other race. \n",
        "## Of coure we are missing more relevant information.  76% of the patients were Caucasians followed by African Americans which made up 17% of the entire data."
      ],
      "metadata": {
        "id": "U9XhYTyiE0K_",
        "colab": {
          "base_uri": "https://localhost:8080/",
          "height": 369
        },
        "outputId": "833c06b0-45e1-4cd5-b08f-40cfcbaffa1a"
      },
      "execution_count": 56,
      "outputs": [
        {
          "output_type": "execute_result",
          "data": {
            "text/plain": [
              "<matplotlib.axes._subplots.AxesSubplot at 0x7fa6b58e07f0>"
            ]
          },
          "metadata": {},
          "execution_count": 56
        },
        {
          "output_type": "display_data",
          "data": {
            "text/plain": [
              "<Figure size 432x288 with 1 Axes>"
            ],
            "image/png": "[encoded data removed]"
          },
          "metadata": {}
        }
      ]
    },
    {
      "cell_type": "code",
      "source": [
        "subset.groupby(['race']).sum().plot(\n",
        "    kind='pie', y='encounter_id', autopct='%1.0f%%', startangle=60)"
      ],
      "metadata": {
        "colab": {
          "base_uri": "https://localhost:8080/",
          "height": 265
        },
        "id": "w04EiiIS4EYQ",
        "outputId": "b3215758-d821-4ed2-8075-d79aed8427a7"
      },
      "execution_count": 80,
      "outputs": [
        {
          "output_type": "execute_result",
          "data": {
            "text/plain": [
              "<matplotlib.axes._subplots.AxesSubplot at 0x7fa6b52cd7f0>"
            ]
          },
          "metadata": {},
          "execution_count": 80
        },
        {
          "output_type": "display_data",
          "data": {
            "text/plain": [
              "<Figure size 432x288 with 1 Axes>"
            ],
            "image/png": "[encoded data removed]"
          },
          "metadata": {}
        }
      ]
    },
    {
      "cell_type": "code",
      "source": [
        "plot1 = sns.countplot(x = 'race', hue = '30readmit', data = subset) \n",
        "\n",
        "sns.despine()\n",
        "plot1.figure.set_size_inches(7, 6.5)\n",
        "plot1.legend(title = 'Readmitted patients', labels = ('No', 'Yes'))\n",
        "plot1.axes.set_title('Hospital Readmissions and Race')\n",
        "plt.show()"
      ],
      "metadata": {
        "id": "4hAHjnuNEX1D",
        "colab": {
          "base_uri": "https://localhost:8080/",
          "height": 431
        },
        "outputId": "e3463311-8264-44e3-ebb1-46d602c357d7"
      },
      "execution_count": 33,
      "outputs": [
        {
          "output_type": "display_data",
          "data": {
            "text/plain": [
              "<Figure size 504x468 with 1 Axes>"
            ],
            "image/png": "[encoded data removed]"
          },
          "metadata": {}
        }
      ]
    },
    {
      "cell_type": "code",
      "source": [
        "plot1 = sns.countplot(x = 'race', hue = '30readmit', data = A1C_patients) \n",
        "\n",
        "sns.despine()\n",
        "plot1.figure.set_size_inches(7, 6.5)\n",
        "plot1.legend(title = 'Readmitted patients', labels = ('No', 'Yes'))\n",
        "plot1.axes.set_title('Hospital Readmissions and Race')\n",
        "plt.show()\n",
        "## After examining the Data of patients whose A1C was tested to determine if Race had any relation to hospital readmissions, this small sample showed similar results as the entire Data set."
      ],
      "metadata": {
        "id": "f2yEC8ZIEmCd",
        "colab": {
          "base_uri": "https://localhost:8080/",
          "height": 431
        },
        "outputId": "ea954008-4912-4cfd-a4e0-521adb096831"
      },
      "execution_count": 34,
      "outputs": [
        {
          "output_type": "display_data",
          "data": {
            "text/plain": [
              "<Figure size 504x468 with 1 Axes>"
            ],
            "image/png": "[encoded data removed]"
          },
          "metadata": {}
        }
      ]
    },
    {
      "cell_type": "markdown",
      "source": [
        "## Conclusion:\n",
        "\n",
        "This data set drew my attention because many people I know suffer from Diabetes. I was interested to find out what other factors besides diabetes would determine whether you would be readmitted to the hospital. I was surprised to discover that the Race who was most affected by diabetes was Caucasians.  The Data does not specify where this Data was collected or whether this Data was a good representation of the entire country so it was difficult to make general conlusions. The data did clearly show that the older you were the higher your chances would be of returning to the hospital. It was also evident that having a high A1C and not having your sugar in control played a big role in whether you would be readmitted to the hospital.  This data was very interesting and provided many useful characteristics to analyze."
      ],
      "metadata": {
        "id": "F9omNiR66Iqp"
      }
    },
    {
      "cell_type": "code",
      "source": [],
      "metadata": {
        "id": "0_c2whLx6H4u"
      },
      "execution_count": null,
      "outputs": []
    }
  ],
  "metadata": {
    "colab": {
      "provenance": [],
      "authorship_tag": "ABX9TyO4gvLcIG/UDbJZf7EqrAlS",
      "include_colab_link": true
    },
    "kernelspec": {
      "display_name": "Python 3",
      "name": "python3"
    },
    "language_info": {
      "name": "python"
    }
  },
  "nbformat": 4,
  "nbformat_minor": 0
}